{
 "cells": [
  {
   "cell_type": "code",
   "execution_count": 1,
   "id": "9eaf036c-0467-4a84-ac27-6eb0507713b6",
   "metadata": {},
   "outputs": [],
   "source": [
    "import geopandas\n",
    "import json\n",
    "import shapely\n",
    "import shapely.geometry\n",
    "from shapely.ops import transform\n",
    "from shapely.geometry import Point\n",
    "from shapely.geometry import Polygon\n",
    "from pystac_client import Client\n",
    "import xarray\n",
    "import rasterio as rio\n",
    "import rioxarray\n",
    "import os"
   ]
  },
  {
   "cell_type": "code",
   "execution_count": 36,
   "id": "efe55428-bb55-4b71-8279-dbc1071d866c",
   "metadata": {},
   "outputs": [],
   "source": [
    "lon = -95.0106\n",
    "lat = 15.432\n",
    "buffer = 0.001    # decimal degrees equal to ~222 meters"
   ]
  },
  {
   "cell_type": "code",
   "execution_count": 37,
   "id": "88c0de0f-30cf-4949-956a-ea05c6151553",
   "metadata": {},
   "outputs": [],
   "source": [
    "loc = Point(lon, lat).buffer(buffer)"
   ]
  },
  {
   "cell_type": "code",
   "execution_count": 38,
   "id": "736afe69-3ef3-4b4a-af7a-5d9cc70801bb",
   "metadata": {
    "scrolled": true
   },
   "outputs": [
    {
     "data": {
      "text/plain": [
       "{'type': 'FeatureCollection',\n",
       " 'features': [{'id': '0',\n",
       "   'type': 'Feature',\n",
       "   'properties': {},\n",
       "   'geometry': {'type': 'Polygon',\n",
       "    'coordinates': [[[-95.00959999999999, 15.432],\n",
       "      [-95.00960481527332, 15.43190198285967],\n",
       "      [-95.00961921471959, 15.431804909677984],\n",
       "      [-95.00964305966427, 15.431709715322746],\n",
       "      [-95.00967612046749, 15.431617316567635],\n",
       "      [-95.00971807873565, 15.431528603263175],\n",
       "      [-95.00976853038769, 15.43144442976698],\n",
       "      [-95.00982698954664, 15.431365606715836],\n",
       "      [-95.0098928932188, 15.431292893218814],\n",
       "      [-95.00996560671584, 15.431226989546637],\n",
       "      [-95.01004442976698, 15.431168530387698],\n",
       "      [-95.01012860326317, 15.431118078735652],\n",
       "      [-95.01021731656763, 15.43107612046749],\n",
       "      [-95.01030971532275, 15.431043059664269],\n",
       "      [-95.01040490967799, 15.431019214719598],\n",
       "      [-95.01050198285967, 15.431004815273328],\n",
       "      [-95.0106, 15.431000000000001],\n",
       "      [-95.01069801714033, 15.431004815273328],\n",
       "      [-95.010795090322, 15.431019214719598],\n",
       "      [-95.01089028467725, 15.431043059664269],\n",
       "      [-95.01098268343236, 15.43107612046749],\n",
       "      [-95.01107139673682, 15.431118078735652],\n",
       "      [-95.01115557023302, 15.431168530387698],\n",
       "      [-95.01123439328416, 15.431226989546637],\n",
       "      [-95.01130710678119, 15.431292893218814],\n",
       "      [-95.01137301045335, 15.431365606715836],\n",
       "      [-95.0114314696123, 15.43144442976698],\n",
       "      [-95.01148192126435, 15.431528603263175],\n",
       "      [-95.0115238795325, 15.431617316567635],\n",
       "      [-95.01155694033572, 15.431709715322746],\n",
       "      [-95.0115807852804, 15.431804909677984],\n",
       "      [-95.01159518472667, 15.43190198285967],\n",
       "      [-95.0116, 15.432],\n",
       "      [-95.01159518472667, 15.43209801714033],\n",
       "      [-95.0115807852804, 15.432195090322017],\n",
       "      [-95.01155694033572, 15.432290284677254],\n",
       "      [-95.0115238795325, 15.432382683432365],\n",
       "      [-95.01148192126435, 15.432471396736826],\n",
       "      [-95.0114314696123, 15.43255557023302],\n",
       "      [-95.01137301045335, 15.432634393284165],\n",
       "      [-95.01130710678119, 15.432707106781187],\n",
       "      [-95.01123439328416, 15.432773010453364],\n",
       "      [-95.01115557023302, 15.432831469612303],\n",
       "      [-95.01107139673682, 15.432881921264348],\n",
       "      [-95.01098268343236, 15.432923879532511],\n",
       "      [-95.01089028467725, 15.432956940335732],\n",
       "      [-95.010795090322, 15.432980785280403],\n",
       "      [-95.01069801714033, 15.432995184726673],\n",
       "      [-95.0106, 15.433],\n",
       "      [-95.01050198285967, 15.432995184726673],\n",
       "      [-95.01040490967799, 15.432980785280403],\n",
       "      [-95.01030971532275, 15.432956940335732],\n",
       "      [-95.01021731656763, 15.432923879532511],\n",
       "      [-95.01012860326317, 15.432881921264348],\n",
       "      [-95.01004442976698, 15.432831469612303],\n",
       "      [-95.00996560671584, 15.432773010453364],\n",
       "      [-95.0098928932188, 15.432707106781187],\n",
       "      [-95.00982698954664, 15.432634393284165],\n",
       "      [-95.00976853038769, 15.43255557023302],\n",
       "      [-95.00971807873565, 15.432471396736826],\n",
       "      [-95.00967612046749, 15.432382683432365],\n",
       "      [-95.00964305966427, 15.432290284677254],\n",
       "      [-95.00961921471959, 15.432195090322017],\n",
       "      [-95.00960481527332, 15.43209801714033],\n",
       "      [-95.00959999999999, 15.432]]]},\n",
       "   'bbox': [-95.0116, 15.431000000000001, -95.00959999999999, 15.433]}],\n",
       " 'bbox': [-95.0116, 15.431000000000001, -95.00959999999999, 15.433]}"
      ]
     },
     "execution_count": 38,
     "metadata": {},
     "output_type": "execute_result"
    }
   ],
   "source": [
    "roi = json.loads(geopandas.GeoSeries([loc]).to_json())\n",
    "roi"
   ]
  },
  {
   "cell_type": "code",
   "execution_count": null,
   "id": "91b63460-5cea-4ff4-b0cf-1c41dd5dbd79",
   "metadata": {},
   "outputs": [],
   "source": [
    "with open(\"/home/data/test.geojson\", \"r\") as file:\n",
    "    roi = json.load(file)"
   ]
  },
  {
   "cell_type": "code",
   "execution_count": null,
   "id": "88721fc3-50b6-4786-9af4-4feff4c733fc",
   "metadata": {
    "scrolled": true,
    "tags": []
   },
   "outputs": [],
   "source": [
    "roi"
   ]
  },
  {
   "cell_type": "code",
   "execution_count": 39,
   "id": "b4ecf674-4c10-4bbc-8391-ebef42285cce",
   "metadata": {},
   "outputs": [],
   "source": [
    "roi['features'][0]['geometry']['coordinates'][0] = roi['features'][0]['geometry']['coordinates'][0][::-1]"
   ]
  },
  {
   "cell_type": "code",
   "execution_count": 40,
   "id": "6e79bd40-278e-402d-9bc1-ad7a4378e3ec",
   "metadata": {
    "scrolled": true
   },
   "outputs": [
    {
     "data": {
      "text/plain": [
       "{'type': 'Polygon',\n",
       " 'coordinates': [[[-95.00959999999999, 15.432],\n",
       "   [-95.00960481527332, 15.43209801714033],\n",
       "   [-95.00961921471959, 15.432195090322017],\n",
       "   [-95.00964305966427, 15.432290284677254],\n",
       "   [-95.00967612046749, 15.432382683432365],\n",
       "   [-95.00971807873565, 15.432471396736826],\n",
       "   [-95.00976853038769, 15.43255557023302],\n",
       "   [-95.00982698954664, 15.432634393284165],\n",
       "   [-95.0098928932188, 15.432707106781187],\n",
       "   [-95.00996560671584, 15.432773010453364],\n",
       "   [-95.01004442976698, 15.432831469612303],\n",
       "   [-95.01012860326317, 15.432881921264348],\n",
       "   [-95.01021731656763, 15.432923879532511],\n",
       "   [-95.01030971532275, 15.432956940335732],\n",
       "   [-95.01040490967799, 15.432980785280403],\n",
       "   [-95.01050198285967, 15.432995184726673],\n",
       "   [-95.0106, 15.433],\n",
       "   [-95.01069801714033, 15.432995184726673],\n",
       "   [-95.010795090322, 15.432980785280403],\n",
       "   [-95.01089028467725, 15.432956940335732],\n",
       "   [-95.01098268343236, 15.432923879532511],\n",
       "   [-95.01107139673682, 15.432881921264348],\n",
       "   [-95.01115557023302, 15.432831469612303],\n",
       "   [-95.01123439328416, 15.432773010453364],\n",
       "   [-95.01130710678119, 15.432707106781187],\n",
       "   [-95.01137301045335, 15.432634393284165],\n",
       "   [-95.0114314696123, 15.43255557023302],\n",
       "   [-95.01148192126435, 15.432471396736826],\n",
       "   [-95.0115238795325, 15.432382683432365],\n",
       "   [-95.01155694033572, 15.432290284677254],\n",
       "   [-95.0115807852804, 15.432195090322017],\n",
       "   [-95.01159518472667, 15.43209801714033],\n",
       "   [-95.0116, 15.432],\n",
       "   [-95.01159518472667, 15.43190198285967],\n",
       "   [-95.0115807852804, 15.431804909677984],\n",
       "   [-95.01155694033572, 15.431709715322746],\n",
       "   [-95.0115238795325, 15.431617316567635],\n",
       "   [-95.01148192126435, 15.431528603263175],\n",
       "   [-95.0114314696123, 15.43144442976698],\n",
       "   [-95.01137301045335, 15.431365606715836],\n",
       "   [-95.01130710678119, 15.431292893218814],\n",
       "   [-95.01123439328416, 15.431226989546637],\n",
       "   [-95.01115557023302, 15.431168530387698],\n",
       "   [-95.01107139673682, 15.431118078735652],\n",
       "   [-95.01098268343236, 15.43107612046749],\n",
       "   [-95.01089028467725, 15.431043059664269],\n",
       "   [-95.010795090322, 15.431019214719598],\n",
       "   [-95.01069801714033, 15.431004815273328],\n",
       "   [-95.0106, 15.431000000000001],\n",
       "   [-95.01050198285967, 15.431004815273328],\n",
       "   [-95.01040490967799, 15.431019214719598],\n",
       "   [-95.01030971532275, 15.431043059664269],\n",
       "   [-95.01021731656763, 15.43107612046749],\n",
       "   [-95.01012860326317, 15.431118078735652],\n",
       "   [-95.01004442976698, 15.431168530387698],\n",
       "   [-95.00996560671584, 15.431226989546637],\n",
       "   [-95.0098928932188, 15.431292893218814],\n",
       "   [-95.00982698954664, 15.431365606715836],\n",
       "   [-95.00976853038769, 15.43144442976698],\n",
       "   [-95.00971807873565, 15.431528603263175],\n",
       "   [-95.00967612046749, 15.431617316567635],\n",
       "   [-95.00964305966427, 15.431709715322746],\n",
       "   [-95.00961921471959, 15.431804909677984],\n",
       "   [-95.00960481527332, 15.43190198285967],\n",
       "   [-95.00959999999999, 15.432]]]}"
      ]
     },
     "execution_count": 40,
     "metadata": {},
     "output_type": "execute_result"
    }
   ],
   "source": [
    "roi['features'][0]['geometry']"
   ]
  },
  {
   "cell_type": "code",
   "execution_count": 41,
   "id": "f60bc194-a960-4022-a9d6-42928a727f9a",
   "metadata": {},
   "outputs": [],
   "source": [
    "STAC_URL = 'https://cmr.earthdata.nasa.gov/stac'"
   ]
  },
  {
   "cell_type": "code",
   "execution_count": 42,
   "id": "6f2a75f7-5730-4ae5-a26f-cbde1d325fec",
   "metadata": {},
   "outputs": [],
   "source": [
    "catalog = Client.open(f'{STAC_URL}/LPCLOUD/')"
   ]
  },
  {
   "cell_type": "code",
   "execution_count": 43,
   "id": "b021020c-179a-457f-a260-b2d797de1f1f",
   "metadata": {},
   "outputs": [],
   "source": [
    "search = catalog.search(\n",
    "    collections = ['HLSL30.v2.0', 'HLSS30.v2.0'],\n",
    "    intersects = roi['features'][0]['geometry'],\n",
    "    datetime = '2021-05/2022-06',\n",
    "    limit=1\n",
    ")"
   ]
  },
  {
   "cell_type": "code",
   "execution_count": 44,
   "id": "bf857a11-4f5a-447a-8f4c-d0c0b9a17fbe",
   "metadata": {},
   "outputs": [
    {
     "ename": "APIError",
     "evalue": "{\"message\":\"If the problem persists please contact cmr-support@earthdata.nasa.gov\",\"errors\":[\"An unexpected error occurred. We have been alerted and are working to resolve the problem.\",\"One or more parameter values were invalid: Size of hashkey has exceeded the maximum size limit of2048 bytes\"]}",
     "output_type": "error",
     "traceback": [
      "\u001b[0;31m---------------------------------------------------------------------------\u001b[0m",
      "\u001b[0;31mAPIError\u001b[0m                                  Traceback (most recent call last)",
      "Cell \u001b[0;32mIn[44], line 1\u001b[0m\n\u001b[0;32m----> 1\u001b[0m \u001b[43msearch\u001b[49m\u001b[38;5;241;43m.\u001b[39;49m\u001b[43mmatched\u001b[49m\u001b[43m(\u001b[49m\u001b[43m)\u001b[49m\n",
      "File \u001b[0;32m/usr/local/lib/python3.8/dist-packages/pystac_client/item_search.py:618\u001b[0m, in \u001b[0;36mItemSearch.matched\u001b[0;34m(self)\u001b[0m\n\u001b[1;32m    608\u001b[0m \u001b[38;5;250m\u001b[39m\u001b[38;5;124;03m\"\"\"Return number matched for search\u001b[39;00m\n\u001b[1;32m    609\u001b[0m \n\u001b[1;32m    610\u001b[0m \u001b[38;5;124;03mReturns the value from the `numberMatched` or `context.matched` field.\u001b[39;00m\n\u001b[0;32m   (...)\u001b[0m\n\u001b[1;32m    615\u001b[0m \u001b[38;5;124;03m    is returned.\u001b[39;00m\n\u001b[1;32m    616\u001b[0m \u001b[38;5;124;03m\"\"\"\u001b[39;00m\n\u001b[1;32m    617\u001b[0m params \u001b[38;5;241m=\u001b[39m {\u001b[38;5;241m*\u001b[39m\u001b[38;5;241m*\u001b[39m\u001b[38;5;28mself\u001b[39m\u001b[38;5;241m.\u001b[39mget_parameters(), \u001b[38;5;124m\"\u001b[39m\u001b[38;5;124mlimit\u001b[39m\u001b[38;5;124m\"\u001b[39m: \u001b[38;5;241m1\u001b[39m}\n\u001b[0;32m--> 618\u001b[0m resp \u001b[38;5;241m=\u001b[39m \u001b[38;5;28;43mself\u001b[39;49m\u001b[38;5;241;43m.\u001b[39;49m\u001b[43m_stac_io\u001b[49m\u001b[38;5;241;43m.\u001b[39;49m\u001b[43mread_json\u001b[49m\u001b[43m(\u001b[49m\u001b[38;5;28;43mself\u001b[39;49m\u001b[38;5;241;43m.\u001b[39;49m\u001b[43murl\u001b[49m\u001b[43m,\u001b[49m\u001b[43m \u001b[49m\u001b[43mmethod\u001b[49m\u001b[38;5;241;43m=\u001b[39;49m\u001b[38;5;28;43mself\u001b[39;49m\u001b[38;5;241;43m.\u001b[39;49m\u001b[43mmethod\u001b[49m\u001b[43m,\u001b[49m\u001b[43m \u001b[49m\u001b[43mparameters\u001b[49m\u001b[38;5;241;43m=\u001b[39;49m\u001b[43mparams\u001b[49m\u001b[43m)\u001b[49m\n\u001b[1;32m    619\u001b[0m found \u001b[38;5;241m=\u001b[39m \u001b[38;5;28;01mNone\u001b[39;00m\n\u001b[1;32m    620\u001b[0m \u001b[38;5;28;01mif\u001b[39;00m \u001b[38;5;124m\"\u001b[39m\u001b[38;5;124mcontext\u001b[39m\u001b[38;5;124m\"\u001b[39m \u001b[38;5;129;01min\u001b[39;00m resp:\n",
      "File \u001b[0;32m/usr/local/lib/python3.8/dist-packages/pystac/stac_io.py:202\u001b[0m, in \u001b[0;36mStacIO.read_json\u001b[0;34m(self, source, *args, **kwargs)\u001b[0m\n\u001b[1;32m    185\u001b[0m \u001b[38;5;28;01mdef\u001b[39;00m \u001b[38;5;21mread_json\u001b[39m(\u001b[38;5;28mself\u001b[39m, source: HREF, \u001b[38;5;241m*\u001b[39margs: Any, \u001b[38;5;241m*\u001b[39m\u001b[38;5;241m*\u001b[39mkwargs: Any) \u001b[38;5;241m-\u001b[39m\u001b[38;5;241m>\u001b[39m Dict[\u001b[38;5;28mstr\u001b[39m, Any]:\n\u001b[1;32m    186\u001b[0m \u001b[38;5;250m    \u001b[39m\u001b[38;5;124;03m\"\"\"Read a dict from the given source.\u001b[39;00m\n\u001b[1;32m    187\u001b[0m \n\u001b[1;32m    188\u001b[0m \u001b[38;5;124;03m    See :func:`StacIO.read_text <pystac.StacIO.read_text>` for usage of\u001b[39;00m\n\u001b[0;32m   (...)\u001b[0m\n\u001b[1;32m    200\u001b[0m \u001b[38;5;124;03m        given source.\u001b[39;00m\n\u001b[1;32m    201\u001b[0m \u001b[38;5;124;03m    \"\"\"\u001b[39;00m\n\u001b[0;32m--> 202\u001b[0m     txt \u001b[38;5;241m=\u001b[39m \u001b[38;5;28;43mself\u001b[39;49m\u001b[38;5;241;43m.\u001b[39;49m\u001b[43mread_text\u001b[49m\u001b[43m(\u001b[49m\u001b[43msource\u001b[49m\u001b[43m,\u001b[49m\u001b[43m \u001b[49m\u001b[38;5;241;43m*\u001b[39;49m\u001b[43margs\u001b[49m\u001b[43m,\u001b[49m\u001b[43m \u001b[49m\u001b[38;5;241;43m*\u001b[39;49m\u001b[38;5;241;43m*\u001b[39;49m\u001b[43mkwargs\u001b[49m\u001b[43m)\u001b[49m\n\u001b[1;32m    203\u001b[0m     \u001b[38;5;28;01mreturn\u001b[39;00m \u001b[38;5;28mself\u001b[39m\u001b[38;5;241m.\u001b[39mjson_loads(txt)\n",
      "File \u001b[0;32m/usr/local/lib/python3.8/dist-packages/pystac_client/stac_api_io.py:97\u001b[0m, in \u001b[0;36mStacApiIO.read_text\u001b[0;34m(self, source, *args, **kwargs)\u001b[0m\n\u001b[1;32m     95\u001b[0m href \u001b[38;5;241m=\u001b[39m \u001b[38;5;28mstr\u001b[39m(source)\n\u001b[1;32m     96\u001b[0m \u001b[38;5;28;01mif\u001b[39;00m \u001b[38;5;28mbool\u001b[39m(urlparse(href)\u001b[38;5;241m.\u001b[39mscheme):\n\u001b[0;32m---> 97\u001b[0m     \u001b[38;5;28;01mreturn\u001b[39;00m \u001b[38;5;28;43mself\u001b[39;49m\u001b[38;5;241;43m.\u001b[39;49m\u001b[43mrequest\u001b[49m\u001b[43m(\u001b[49m\u001b[43mhref\u001b[49m\u001b[43m,\u001b[49m\u001b[43m \u001b[49m\u001b[38;5;241;43m*\u001b[39;49m\u001b[43margs\u001b[49m\u001b[43m,\u001b[49m\u001b[43m \u001b[49m\u001b[38;5;241;43m*\u001b[39;49m\u001b[38;5;241;43m*\u001b[39;49m\u001b[43mkwargs\u001b[49m\u001b[43m)\u001b[49m\n\u001b[1;32m     98\u001b[0m \u001b[38;5;28;01melse\u001b[39;00m:\n\u001b[1;32m     99\u001b[0m     \u001b[38;5;28;01mwith\u001b[39;00m \u001b[38;5;28mopen\u001b[39m(href) \u001b[38;5;28;01mas\u001b[39;00m f:\n",
      "File \u001b[0;32m/usr/local/lib/python3.8/dist-packages/pystac_client/stac_api_io.py:144\u001b[0m, in \u001b[0;36mStacApiIO.request\u001b[0;34m(self, href, method, headers, parameters)\u001b[0m\n\u001b[1;32m    142\u001b[0m     \u001b[38;5;28;01mraise\u001b[39;00m APIError(\u001b[38;5;28mstr\u001b[39m(err))\n\u001b[1;32m    143\u001b[0m \u001b[38;5;28;01mif\u001b[39;00m resp\u001b[38;5;241m.\u001b[39mstatus_code \u001b[38;5;241m!=\u001b[39m \u001b[38;5;241m200\u001b[39m:\n\u001b[0;32m--> 144\u001b[0m     \u001b[38;5;28;01mraise\u001b[39;00m APIError\u001b[38;5;241m.\u001b[39mfrom_response(resp)\n\u001b[1;32m    145\u001b[0m \u001b[38;5;28;01mtry\u001b[39;00m:\n\u001b[1;32m    146\u001b[0m     \u001b[38;5;28;01mreturn\u001b[39;00m resp\u001b[38;5;241m.\u001b[39mcontent\u001b[38;5;241m.\u001b[39mdecode(\u001b[38;5;124m\"\u001b[39m\u001b[38;5;124mutf-8\u001b[39m\u001b[38;5;124m\"\u001b[39m)\n",
      "\u001b[0;31mAPIError\u001b[0m: {\"message\":\"If the problem persists please contact cmr-support@earthdata.nasa.gov\",\"errors\":[\"An unexpected error occurred. We have been alerted and are working to resolve the problem.\",\"One or more parameter values were invalid: Size of hashkey has exceeded the maximum size limit of2048 bytes\"]}"
     ]
    }
   ],
   "source": [
    "search.matched()"
   ]
  },
  {
   "cell_type": "code",
   "execution_count": 11,
   "id": "0c5e5c27-6b61-4eff-ba69-01cdc1060e8e",
   "metadata": {},
   "outputs": [
    {
     "ename": "APIError",
     "evalue": "{\"message\":\"If the problem persists please contact cmr-support@earthdata.nasa.gov\",\"errors\":[\"An unexpected error occurred. We have been alerted and are working to resolve the problem.\",\"One or more parameter values were invalid: Size of hashkey has exceeded the maximum size limit of2048 bytes\"]}",
     "output_type": "error",
     "traceback": [
      "\u001b[0;31m---------------------------------------------------------------------------\u001b[0m",
      "\u001b[0;31mAPIError\u001b[0m                                  Traceback (most recent call last)",
      "Cell \u001b[0;32mIn[11], line 1\u001b[0m\n\u001b[0;32m----> 1\u001b[0m item_collection \u001b[38;5;241m=\u001b[39m \u001b[43msearch\u001b[49m\u001b[38;5;241;43m.\u001b[39;49m\u001b[43mget_all_items\u001b[49m\u001b[43m(\u001b[49m\u001b[43m)\u001b[49m\n",
      "File \u001b[0;32m/usr/local/lib/python3.8/dist-packages/pystac_client/item_search.py:805\u001b[0m, in \u001b[0;36mItemSearch.get_all_items\u001b[0;34m(self)\u001b[0m\n\u001b[1;32m    793\u001b[0m \u001b[38;5;250m\u001b[39m\u001b[38;5;124;03m\"\"\"DEPRECATED\u001b[39;00m\n\u001b[1;32m    794\u001b[0m \n\u001b[1;32m    795\u001b[0m \u001b[38;5;124;03m.. deprecated:: 0.4.0\u001b[39;00m\n\u001b[0;32m   (...)\u001b[0m\n\u001b[1;32m    799\u001b[0m \u001b[38;5;124;03m    item_collection : ItemCollection\u001b[39;00m\n\u001b[1;32m    800\u001b[0m \u001b[38;5;124;03m\"\"\"\u001b[39;00m\n\u001b[1;32m    801\u001b[0m warnings\u001b[38;5;241m.\u001b[39mwarn(\n\u001b[1;32m    802\u001b[0m     \u001b[38;5;124m\"\u001b[39m\u001b[38;5;124mget_all_items() is deprecated, use item_collection() instead.\u001b[39m\u001b[38;5;124m\"\u001b[39m,\n\u001b[1;32m    803\u001b[0m     \u001b[38;5;167;01mDeprecationWarning\u001b[39;00m,\n\u001b[1;32m    804\u001b[0m )\n\u001b[0;32m--> 805\u001b[0m \u001b[38;5;28;01mreturn\u001b[39;00m \u001b[38;5;28;43mself\u001b[39;49m\u001b[38;5;241;43m.\u001b[39;49m\u001b[43mitem_collection\u001b[49m\u001b[43m(\u001b[49m\u001b[43m)\u001b[49m\n",
      "File \u001b[0;32m/usr/local/lib/python3.8/dist-packages/pystac_client/item_search.py:706\u001b[0m, in \u001b[0;36mItemSearch.item_collection\u001b[0;34m(self)\u001b[0m\n\u001b[1;32m    698\u001b[0m \u001b[38;5;250m\u001b[39m\u001b[38;5;124;03m\"\"\"\u001b[39;00m\n\u001b[1;32m    699\u001b[0m \u001b[38;5;124;03mGet the matching items as a :py:class:`pystac.ItemCollection`.\u001b[39;00m\n\u001b[1;32m    700\u001b[0m \n\u001b[1;32m    701\u001b[0m \u001b[38;5;124;03mReturn:\u001b[39;00m\n\u001b[1;32m    702\u001b[0m \u001b[38;5;124;03m    ItemCollection: The item collection\u001b[39;00m\n\u001b[1;32m    703\u001b[0m \u001b[38;5;124;03m\"\"\"\u001b[39;00m\n\u001b[1;32m    704\u001b[0m \u001b[38;5;66;03m# Bypass the cache here, so that we can pass __preserve_dict__\u001b[39;00m\n\u001b[1;32m    705\u001b[0m \u001b[38;5;66;03m# without mutating what's in the cache.\u001b[39;00m\n\u001b[0;32m--> 706\u001b[0m feature_collection \u001b[38;5;241m=\u001b[39m \u001b[38;5;28;43mself\u001b[39;49m\u001b[38;5;241;43m.\u001b[39;49m\u001b[43mitem_collection_as_dict\u001b[49m\u001b[38;5;241;43m.\u001b[39;49m\u001b[43m__wrapped__\u001b[49m\u001b[43m(\u001b[49m\u001b[38;5;28;43mself\u001b[39;49m\u001b[43m)\u001b[49m\n\u001b[1;32m    707\u001b[0m \u001b[38;5;66;03m# already signed in item_collection_as_dict\u001b[39;00m\n\u001b[1;32m    708\u001b[0m \u001b[38;5;28;01mreturn\u001b[39;00m ItemCollection\u001b[38;5;241m.\u001b[39mfrom_dict(\n\u001b[1;32m    709\u001b[0m     feature_collection, preserve_dict\u001b[38;5;241m=\u001b[39m\u001b[38;5;28;01mFalse\u001b[39;00m, root\u001b[38;5;241m=\u001b[39m\u001b[38;5;28mself\u001b[39m\u001b[38;5;241m.\u001b[39mclient\n\u001b[1;32m    710\u001b[0m )\n",
      "File \u001b[0;32m/usr/local/lib/python3.8/dist-packages/pystac_client/item_search.py:727\u001b[0m, in \u001b[0;36mItemSearch.item_collection_as_dict\u001b[0;34m(self)\u001b[0m\n\u001b[1;32m    714\u001b[0m \u001b[38;5;250m\u001b[39m\u001b[38;5;124;03m\"\"\"\u001b[39;00m\n\u001b[1;32m    715\u001b[0m \u001b[38;5;124;03mGet the matching items as an item-collection-like dict.\u001b[39;00m\n\u001b[1;32m    716\u001b[0m \n\u001b[0;32m   (...)\u001b[0m\n\u001b[1;32m    724\u001b[0m \u001b[38;5;124;03m    Dict : A GeoJSON FeatureCollection\u001b[39;00m\n\u001b[1;32m    725\u001b[0m \u001b[38;5;124;03m\"\"\"\u001b[39;00m\n\u001b[1;32m    726\u001b[0m features \u001b[38;5;241m=\u001b[39m []\n\u001b[0;32m--> 727\u001b[0m \u001b[38;5;28;01mfor\u001b[39;00m page \u001b[38;5;129;01min\u001b[39;00m \u001b[38;5;28mself\u001b[39m\u001b[38;5;241m.\u001b[39m_stac_io\u001b[38;5;241m.\u001b[39mget_pages(\n\u001b[1;32m    728\u001b[0m     \u001b[38;5;28mself\u001b[39m\u001b[38;5;241m.\u001b[39murl, \u001b[38;5;28mself\u001b[39m\u001b[38;5;241m.\u001b[39mmethod, \u001b[38;5;28mself\u001b[39m\u001b[38;5;241m.\u001b[39mget_parameters()\n\u001b[1;32m    729\u001b[0m ):\n\u001b[1;32m    730\u001b[0m     \u001b[38;5;28;01mfor\u001b[39;00m feature \u001b[38;5;129;01min\u001b[39;00m page[\u001b[38;5;124m\"\u001b[39m\u001b[38;5;124mfeatures\u001b[39m\u001b[38;5;124m\"\u001b[39m]:\n\u001b[1;32m    731\u001b[0m         features\u001b[38;5;241m.\u001b[39mappend(feature)\n",
      "File \u001b[0;32m/usr/local/lib/python3.8/dist-packages/pystac_client/stac_api_io.py:220\u001b[0m, in \u001b[0;36mStacApiIO.get_pages\u001b[0;34m(self, url, method, parameters)\u001b[0m\n\u001b[1;32m    208\u001b[0m \u001b[38;5;28;01mdef\u001b[39;00m \u001b[38;5;21mget_pages\u001b[39m(\n\u001b[1;32m    209\u001b[0m     \u001b[38;5;28mself\u001b[39m,\n\u001b[1;32m    210\u001b[0m     url: \u001b[38;5;28mstr\u001b[39m,\n\u001b[1;32m    211\u001b[0m     method: Optional[\u001b[38;5;28mstr\u001b[39m] \u001b[38;5;241m=\u001b[39m \u001b[38;5;28;01mNone\u001b[39;00m,\n\u001b[1;32m    212\u001b[0m     parameters: Optional[Dict[\u001b[38;5;28mstr\u001b[39m, Any]] \u001b[38;5;241m=\u001b[39m \u001b[38;5;28;01mNone\u001b[39;00m,\n\u001b[1;32m    213\u001b[0m ) \u001b[38;5;241m-\u001b[39m\u001b[38;5;241m>\u001b[39m Iterator[Dict[\u001b[38;5;28mstr\u001b[39m, Any]]:\n\u001b[1;32m    214\u001b[0m \u001b[38;5;250m    \u001b[39m\u001b[38;5;124;03m\"\"\"Iterator that yields dictionaries for each page at a STAC paging\u001b[39;00m\n\u001b[1;32m    215\u001b[0m \u001b[38;5;124;03m    endpoint, e.g., /collections, /search\u001b[39;00m\n\u001b[1;32m    216\u001b[0m \n\u001b[1;32m    217\u001b[0m \u001b[38;5;124;03m    Return:\u001b[39;00m\n\u001b[1;32m    218\u001b[0m \u001b[38;5;124;03m        Dict[str, Any] : JSON content from a single page\u001b[39;00m\n\u001b[1;32m    219\u001b[0m \u001b[38;5;124;03m    \"\"\"\u001b[39;00m\n\u001b[0;32m--> 220\u001b[0m     page \u001b[38;5;241m=\u001b[39m \u001b[38;5;28;43mself\u001b[39;49m\u001b[38;5;241;43m.\u001b[39;49m\u001b[43mread_json\u001b[49m\u001b[43m(\u001b[49m\u001b[43murl\u001b[49m\u001b[43m,\u001b[49m\u001b[43m \u001b[49m\u001b[43mmethod\u001b[49m\u001b[38;5;241;43m=\u001b[39;49m\u001b[43mmethod\u001b[49m\u001b[43m,\u001b[49m\u001b[43m \u001b[49m\u001b[43mparameters\u001b[49m\u001b[38;5;241;43m=\u001b[39;49m\u001b[43mparameters\u001b[49m\u001b[43m)\u001b[49m\n\u001b[1;32m    221\u001b[0m     \u001b[38;5;28;01myield\u001b[39;00m page\n\u001b[1;32m    223\u001b[0m     next_link \u001b[38;5;241m=\u001b[39m \u001b[38;5;28mnext\u001b[39m(\n\u001b[1;32m    224\u001b[0m         (link \u001b[38;5;28;01mfor\u001b[39;00m link \u001b[38;5;129;01min\u001b[39;00m page\u001b[38;5;241m.\u001b[39mget(\u001b[38;5;124m\"\u001b[39m\u001b[38;5;124mlinks\u001b[39m\u001b[38;5;124m\"\u001b[39m, []) \u001b[38;5;28;01mif\u001b[39;00m link[\u001b[38;5;124m\"\u001b[39m\u001b[38;5;124mrel\u001b[39m\u001b[38;5;124m\"\u001b[39m] \u001b[38;5;241m==\u001b[39m \u001b[38;5;124m\"\u001b[39m\u001b[38;5;124mnext\u001b[39m\u001b[38;5;124m\"\u001b[39m), \u001b[38;5;28;01mNone\u001b[39;00m\n\u001b[1;32m    225\u001b[0m     )\n",
      "File \u001b[0;32m/usr/local/lib/python3.8/dist-packages/pystac/stac_io.py:202\u001b[0m, in \u001b[0;36mStacIO.read_json\u001b[0;34m(self, source, *args, **kwargs)\u001b[0m\n\u001b[1;32m    185\u001b[0m \u001b[38;5;28;01mdef\u001b[39;00m \u001b[38;5;21mread_json\u001b[39m(\u001b[38;5;28mself\u001b[39m, source: HREF, \u001b[38;5;241m*\u001b[39margs: Any, \u001b[38;5;241m*\u001b[39m\u001b[38;5;241m*\u001b[39mkwargs: Any) \u001b[38;5;241m-\u001b[39m\u001b[38;5;241m>\u001b[39m Dict[\u001b[38;5;28mstr\u001b[39m, Any]:\n\u001b[1;32m    186\u001b[0m \u001b[38;5;250m    \u001b[39m\u001b[38;5;124;03m\"\"\"Read a dict from the given source.\u001b[39;00m\n\u001b[1;32m    187\u001b[0m \n\u001b[1;32m    188\u001b[0m \u001b[38;5;124;03m    See :func:`StacIO.read_text <pystac.StacIO.read_text>` for usage of\u001b[39;00m\n\u001b[0;32m   (...)\u001b[0m\n\u001b[1;32m    200\u001b[0m \u001b[38;5;124;03m        given source.\u001b[39;00m\n\u001b[1;32m    201\u001b[0m \u001b[38;5;124;03m    \"\"\"\u001b[39;00m\n\u001b[0;32m--> 202\u001b[0m     txt \u001b[38;5;241m=\u001b[39m \u001b[38;5;28;43mself\u001b[39;49m\u001b[38;5;241;43m.\u001b[39;49m\u001b[43mread_text\u001b[49m\u001b[43m(\u001b[49m\u001b[43msource\u001b[49m\u001b[43m,\u001b[49m\u001b[43m \u001b[49m\u001b[38;5;241;43m*\u001b[39;49m\u001b[43margs\u001b[49m\u001b[43m,\u001b[49m\u001b[43m \u001b[49m\u001b[38;5;241;43m*\u001b[39;49m\u001b[38;5;241;43m*\u001b[39;49m\u001b[43mkwargs\u001b[49m\u001b[43m)\u001b[49m\n\u001b[1;32m    203\u001b[0m     \u001b[38;5;28;01mreturn\u001b[39;00m \u001b[38;5;28mself\u001b[39m\u001b[38;5;241m.\u001b[39mjson_loads(txt)\n",
      "File \u001b[0;32m/usr/local/lib/python3.8/dist-packages/pystac_client/stac_api_io.py:97\u001b[0m, in \u001b[0;36mStacApiIO.read_text\u001b[0;34m(self, source, *args, **kwargs)\u001b[0m\n\u001b[1;32m     95\u001b[0m href \u001b[38;5;241m=\u001b[39m \u001b[38;5;28mstr\u001b[39m(source)\n\u001b[1;32m     96\u001b[0m \u001b[38;5;28;01mif\u001b[39;00m \u001b[38;5;28mbool\u001b[39m(urlparse(href)\u001b[38;5;241m.\u001b[39mscheme):\n\u001b[0;32m---> 97\u001b[0m     \u001b[38;5;28;01mreturn\u001b[39;00m \u001b[38;5;28;43mself\u001b[39;49m\u001b[38;5;241;43m.\u001b[39;49m\u001b[43mrequest\u001b[49m\u001b[43m(\u001b[49m\u001b[43mhref\u001b[49m\u001b[43m,\u001b[49m\u001b[43m \u001b[49m\u001b[38;5;241;43m*\u001b[39;49m\u001b[43margs\u001b[49m\u001b[43m,\u001b[49m\u001b[43m \u001b[49m\u001b[38;5;241;43m*\u001b[39;49m\u001b[38;5;241;43m*\u001b[39;49m\u001b[43mkwargs\u001b[49m\u001b[43m)\u001b[49m\n\u001b[1;32m     98\u001b[0m \u001b[38;5;28;01melse\u001b[39;00m:\n\u001b[1;32m     99\u001b[0m     \u001b[38;5;28;01mwith\u001b[39;00m \u001b[38;5;28mopen\u001b[39m(href) \u001b[38;5;28;01mas\u001b[39;00m f:\n",
      "File \u001b[0;32m/usr/local/lib/python3.8/dist-packages/pystac_client/stac_api_io.py:144\u001b[0m, in \u001b[0;36mStacApiIO.request\u001b[0;34m(self, href, method, headers, parameters)\u001b[0m\n\u001b[1;32m    142\u001b[0m     \u001b[38;5;28;01mraise\u001b[39;00m APIError(\u001b[38;5;28mstr\u001b[39m(err))\n\u001b[1;32m    143\u001b[0m \u001b[38;5;28;01mif\u001b[39;00m resp\u001b[38;5;241m.\u001b[39mstatus_code \u001b[38;5;241m!=\u001b[39m \u001b[38;5;241m200\u001b[39m:\n\u001b[0;32m--> 144\u001b[0m     \u001b[38;5;28;01mraise\u001b[39;00m APIError\u001b[38;5;241m.\u001b[39mfrom_response(resp)\n\u001b[1;32m    145\u001b[0m \u001b[38;5;28;01mtry\u001b[39;00m:\n\u001b[1;32m    146\u001b[0m     \u001b[38;5;28;01mreturn\u001b[39;00m resp\u001b[38;5;241m.\u001b[39mcontent\u001b[38;5;241m.\u001b[39mdecode(\u001b[38;5;124m\"\u001b[39m\u001b[38;5;124mutf-8\u001b[39m\u001b[38;5;124m\"\u001b[39m)\n",
      "\u001b[0;31mAPIError\u001b[0m: {\"message\":\"If the problem persists please contact cmr-support@earthdata.nasa.gov\",\"errors\":[\"An unexpected error occurred. We have been alerted and are working to resolve the problem.\",\"One or more parameter values were invalid: Size of hashkey has exceeded the maximum size limit of2048 bytes\"]}"
     ]
    }
   ],
   "source": [
    "item_collection = search.get_all_items()"
   ]
  },
  {
   "cell_type": "code",
   "execution_count": null,
   "id": "6c8097c2-e7e3-423b-906b-62e7c034c4d1",
   "metadata": {},
   "outputs": [],
   "source": [
    "items[0].assets"
   ]
  }
 ],
 "metadata": {
  "kernelspec": {
   "display_name": "Python 3 (ipykernel)",
   "language": "python",
   "name": "python3"
  },
  "language_info": {
   "codemirror_mode": {
    "name": "ipython",
    "version": 3
   },
   "file_extension": ".py",
   "mimetype": "text/x-python",
   "name": "python",
   "nbconvert_exporter": "python",
   "pygments_lexer": "ipython3",
   "version": "3.8.10"
  }
 },
 "nbformat": 4,
 "nbformat_minor": 5
}
