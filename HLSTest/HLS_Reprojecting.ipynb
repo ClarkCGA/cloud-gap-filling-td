{
 "cells": [
  {
   "cell_type": "code",
   "execution_count": 24,
   "id": "7351170e-79c3-4df3-a723-ed0a479df1c3",
   "metadata": {},
   "outputs": [],
   "source": [
    "import geopandas\n",
    "import json\n",
    "import shapely\n",
    "import shapely.geometry\n",
    "import xarray\n",
    "import rasterio\n",
    "import rioxarray\n",
    "import os\n",
    "import fiona\n",
    "import nasa_hls\n",
    "import urllib.request as urlreq\n",
    "import pandas as pd\n",
    "import numpy as np\n",
    "import requests\n",
    "import xmltodict\n",
    "import shutil\n",
    "import datetime\n",
    "import boto3\n",
    "import pyproj\n",
    "\n",
    "\n",
    "from shapely.ops import transform\n",
    "from shapely.geometry import Point\n",
    "from shapely.geometry import Polygon\n",
    "from pystac_client import Client \n",
    "from collections import defaultdict\n",
    "from glob import glob\n",
    "from rasterio.enums import Resampling\n",
    "from rasterio import Affine\n",
    "from rasterio.crs import CRS\n",
    "import matplotlib.pyplot as plt\n",
    "from subprocess import Popen, PIPE\n",
    "from tqdm import tqdm\n",
    "from netrc import netrc\n",
    "from subprocess import Popen\n",
    "from platform import system\n",
    "from getpass import getpass\n",
    "from rasterio.session import AWSSession\n",
    "from rasterio.enums import Resampling\n",
    "from pathlib import Path\n",
    "\n",
    "pd.set_option('display.max_columns', None)\n",
    "pd.set_option('display.max_rows', None)\n",
    "\n",
    "%matplotlib inline"
   ]
  },
  {
   "cell_type": "code",
   "execution_count": 50,
   "id": "4447d5b3-962e-4af1-afad-cb5a842d60a1",
   "metadata": {},
   "outputs": [],
   "source": [
    "cdl_file = \"/data/requirements/2022_30m_cdls_clipped.tif\""
   ]
  },
  {
   "cell_type": "code",
   "execution_count": 51,
   "id": "1b72c33f-2ef3-4b32-9b99-a7368a550675",
   "metadata": {},
   "outputs": [],
   "source": [
    "track_df = pd.read_csv(req_path + \"track_df.csv\")"
   ]
  },
  {
   "cell_type": "code",
   "execution_count": 52,
   "id": "aa552f97-90ab-4151-af70-1dce0754b100",
   "metadata": {},
   "outputs": [],
   "source": [
    "def reproject_hls(tile_path, \n",
    "                  target_crs =\"EPSG:5070\", \n",
    "                  remove_original = True, \n",
    "                  resampling_method = Resampling.bilinear):\n",
    "    \n",
    "    \"\"\"\n",
    "    This function receives the path to a specific HLS tile and reproject it to the targeting crs.\n",
    "    The option of removing the raw HLS tile is provided\n",
    "    \n",
    "    Assumptions:\n",
    "    - tile_path is a full path that end with .tif\n",
    "    \n",
    "    \n",
    "    Inputs:\n",
    "    - tile_path: The full path to a specific HLS tile\n",
    "    - target_crs: The crs that you wish to reproject the tile to, default is EPSG 4326\n",
    "    - remove_original: The option to remove raw HLS tile after reprojecting, default is True\n",
    "    - resampling_method: The method that rioxarray use to reproject, default is bilinear\n",
    "    \"\"\"\n",
    "    \n",
    "\n",
    "    xds = rioxarray.open_rasterio(tile_path)\n",
    "    cdl = rioxarray.open_rasterio(cdl_file)\n",
    "    xds_new = xds.rio.reproject_match(cdl, resampling = resampling_method)\n",
    "    if remove_original:\n",
    "        if Path(tile_path).is_file():\n",
    "            os.remove(tile_path)\n",
    "        xds_new.rio.to_raster(raster_path = tile_path)\n",
    "    else:\n",
    "        xds_new.rio.to_raster(raster_path = tile_path.replace(\".tif\", \".reproject.tif\"))\n",
    "        "
   ]
  },
  {
   "cell_type": "code",
   "execution_count": 53,
   "id": "fcb07b73-149c-48d4-9c30-f4ab9af24ba9",
   "metadata": {},
   "outputs": [
    {
     "data": {
      "text/html": [
       "<div>\n",
       "<style scoped>\n",
       "    .dataframe tbody tr th:only-of-type {\n",
       "        vertical-align: middle;\n",
       "    }\n",
       "\n",
       "    .dataframe tbody tr th {\n",
       "        vertical-align: top;\n",
       "    }\n",
       "\n",
       "    .dataframe thead th {\n",
       "        text-align: right;\n",
       "    }\n",
       "</style>\n",
       "<table border=\"1\" class=\"dataframe\">\n",
       "  <thead>\n",
       "    <tr style=\"text-align: right;\">\n",
       "      <th></th>\n",
       "      <th>tile</th>\n",
       "      <th>timestep</th>\n",
       "      <th>date</th>\n",
       "      <th>save_path</th>\n",
       "      <th>filename</th>\n",
       "    </tr>\n",
       "  </thead>\n",
       "  <tbody>\n",
       "    <tr>\n",
       "      <th>0</th>\n",
       "      <td>T10SDJ</td>\n",
       "      <td>0</td>\n",
       "      <td>2022-03-08</td>\n",
       "      <td>/data/tiles/HLS.S30.T10SDJ.2022067T190231.v2.0/</td>\n",
       "      <td>HLS.S30.T10SDJ.2022067T190231.v2.0</td>\n",
       "    </tr>\n",
       "    <tr>\n",
       "      <th>1</th>\n",
       "      <td>T10SDJ</td>\n",
       "      <td>1</td>\n",
       "      <td>2022-07-16</td>\n",
       "      <td>/data/tiles/HLS.S30.T10SDJ.2022197T185931.v2.0/</td>\n",
       "      <td>HLS.S30.T10SDJ.2022197T185931.v2.0</td>\n",
       "    </tr>\n",
       "    <tr>\n",
       "      <th>2</th>\n",
       "      <td>T10SDJ</td>\n",
       "      <td>2</td>\n",
       "      <td>2022-09-29</td>\n",
       "      <td>/data/tiles/HLS.S30.T10SDJ.2022272T190159.v2.0/</td>\n",
       "      <td>HLS.S30.T10SDJ.2022272T190159.v2.0</td>\n",
       "    </tr>\n",
       "    <tr>\n",
       "      <th>3</th>\n",
       "      <td>T10SEH</td>\n",
       "      <td>0</td>\n",
       "      <td>2022-03-10</td>\n",
       "      <td>/data/tiles/HLS.S30.T10SEH.2022069T185109.v2.0/</td>\n",
       "      <td>HLS.S30.T10SEH.2022069T185109.v2.0</td>\n",
       "    </tr>\n",
       "    <tr>\n",
       "      <th>4</th>\n",
       "      <td>T10SEH</td>\n",
       "      <td>1</td>\n",
       "      <td>2022-06-23</td>\n",
       "      <td>/data/tiles/HLS.S30.T10SEH.2022174T184931.v2.0/</td>\n",
       "      <td>HLS.S30.T10SEH.2022174T184931.v2.0</td>\n",
       "    </tr>\n",
       "  </tbody>\n",
       "</table>\n",
       "</div>"
      ],
      "text/plain": [
       "     tile  timestep        date  \\\n",
       "0  T10SDJ         0  2022-03-08   \n",
       "1  T10SDJ         1  2022-07-16   \n",
       "2  T10SDJ         2  2022-09-29   \n",
       "3  T10SEH         0  2022-03-10   \n",
       "4  T10SEH         1  2022-06-23   \n",
       "\n",
       "                                         save_path  \\\n",
       "0  /data/tiles/HLS.S30.T10SDJ.2022067T190231.v2.0/   \n",
       "1  /data/tiles/HLS.S30.T10SDJ.2022197T185931.v2.0/   \n",
       "2  /data/tiles/HLS.S30.T10SDJ.2022272T190159.v2.0/   \n",
       "3  /data/tiles/HLS.S30.T10SEH.2022069T185109.v2.0/   \n",
       "4  /data/tiles/HLS.S30.T10SEH.2022174T184931.v2.0/   \n",
       "\n",
       "                             filename  \n",
       "0  HLS.S30.T10SDJ.2022067T190231.v2.0  \n",
       "1  HLS.S30.T10SDJ.2022197T185931.v2.0  \n",
       "2  HLS.S30.T10SDJ.2022272T190159.v2.0  \n",
       "3  HLS.S30.T10SEH.2022069T185109.v2.0  \n",
       "4  HLS.S30.T10SEH.2022174T184931.v2.0  "
      ]
     },
     "execution_count": 53,
     "metadata": {},
     "output_type": "execute_result"
    }
   ],
   "source": [
    "track_df.head()"
   ]
  },
  {
   "cell_type": "code",
   "execution_count": 54,
   "id": "a45a5416-a769-4d38-b514-60364fefd8c2",
   "metadata": {},
   "outputs": [],
   "source": [
    "tiles_to_reproj = track_df.tile.tolist()"
   ]
  },
  {
   "cell_type": "code",
   "execution_count": 58,
   "id": "ab138a96-9d1c-4497-9c25-969a04b562af",
   "metadata": {},
   "outputs": [],
   "source": [
    "def hls_process (dataframe, \n",
    "                 bands = [\"B02\", \"B03\", \"B04\", \"B8A\", \"B11\", \"B12\", \"Fmask\"],\n",
    "                 remove_original = True):\n",
    "    tiles_to_reproj = dataframe.tile.tolist()\n",
    "    for tile in tqdm(tiles_to_reproj):\n",
    "        path_df = dataframe[dataframe.tile == tile]\n",
    "        assert len(path_df) == 3 \n",
    "        for i in range(3):\n",
    "            for band in bands:\n",
    "                tile_path = f\"{path_df.iloc[i].save_path}{path_df.iloc[i].filename}.{band}.tif\"\n",
    "                if band == \"Fmask\":\n",
    "                    reproject_hls(tile_path, remove_original, resampling_method = Resampling.nearest)\n",
    "                else :\n",
    "                    reproject_hls(tile_path, remove_original)\n",
    "        break\n",
    "                    "
   ]
  },
  {
   "cell_type": "code",
   "execution_count": 59,
   "id": "d4bbe1f6-81ac-4bf9-9a30-f2b8c5e1b775",
   "metadata": {},
   "outputs": [
    {
     "name": "stderr",
     "output_type": "stream",
     "text": [
      "  0%|                                                                                          | 0/1752 [01:29<?, ?it/s]\n"
     ]
    }
   ],
   "source": [
    "hls_process(track_df, remove_original = False)"
   ]
  },
  {
   "cell_type": "code",
   "execution_count": null,
   "id": "e0f2a531-363d-4ebc-b4d2-b896c7e3d505",
   "metadata": {},
   "outputs": [],
   "source": []
  }
 ],
 "metadata": {
  "kernelspec": {
   "display_name": "Python 3 (ipykernel)",
   "language": "python",
   "name": "python3"
  },
  "language_info": {
   "codemirror_mode": {
    "name": "ipython",
    "version": 3
   },
   "file_extension": ".py",
   "mimetype": "text/x-python",
   "name": "python",
   "nbconvert_exporter": "python",
   "pygments_lexer": "ipython3",
   "version": "3.10.6"
  }
 },
 "nbformat": 4,
 "nbformat_minor": 5
}
