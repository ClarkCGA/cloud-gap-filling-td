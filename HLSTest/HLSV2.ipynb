{
 "cells": [
  {
   "cell_type": "code",
   "execution_count": 21,
   "id": "aed4e4a9-dbc5-4ffc-9cbf-d7de3fb56672",
   "metadata": {},
   "outputs": [
    {
     "name": "stdout",
     "output_type": "stream",
     "text": [
      "Requirement already satisfied: requests in /usr/local/lib/python3.8/dist-packages (2.31.0)\n",
      "Requirement already satisfied: charset-normalizer<4,>=2 in /usr/local/lib/python3.8/dist-packages (from requests) (3.1.0)\n",
      "Requirement already satisfied: idna<4,>=2.5 in /usr/local/lib/python3.8/dist-packages (from requests) (3.4)\n",
      "Requirement already satisfied: urllib3<3,>=1.21.1 in /usr/local/lib/python3.8/dist-packages (from requests) (2.0.3)\n",
      "Requirement already satisfied: certifi>=2017.4.17 in /usr/local/lib/python3.8/dist-packages (from requests) (2023.5.7)\n",
      "\u001b[33mWARNING: Running pip as the 'root' user can result in broken permissions and conflicting behaviour with the system package manager. It is recommended to use a virtual environment instead: https://pip.pypa.io/warnings/venv\u001b[0m\u001b[33m\n",
      "\u001b[0mRequirement already satisfied: xmltodict in /usr/local/lib/python3.8/dist-packages (0.13.0)\n",
      "\u001b[33mWARNING: Running pip as the 'root' user can result in broken permissions and conflicting behaviour with the system package manager. It is recommended to use a virtual environment instead: https://pip.pypa.io/warnings/venv\u001b[0m\u001b[33m\n",
      "\u001b[0mCollecting boto3\n",
      "  Downloading boto3-1.26.164-py3-none-any.whl (135 kB)\n",
      "\u001b[2K     \u001b[90m━━━━━━━━━━━━━━━━━━━━━━━━━━━━━━━━━━━━━━━\u001b[0m \u001b[32m135.9/135.9 kB\u001b[0m \u001b[31m3.7 MB/s\u001b[0m eta \u001b[36m0:00:00\u001b[0m00:01\u001b[0m\n",
      "\u001b[?25hCollecting botocore<1.30.0,>=1.29.164 (from boto3)\n",
      "  Downloading botocore-1.29.164-py3-none-any.whl (11.0 MB)\n",
      "\u001b[2K     \u001b[90m━━━━━━━━━━━━━━━━━━━━━━━━━━━━━━━━━━━━━━━━\u001b[0m \u001b[32m11.0/11.0 MB\u001b[0m \u001b[31m25.5 MB/s\u001b[0m eta \u001b[36m0:00:00\u001b[0m00:01\u001b[0m00:01\u001b[0m\n",
      "\u001b[?25hCollecting jmespath<2.0.0,>=0.7.1 (from boto3)\n",
      "  Downloading jmespath-1.0.1-py3-none-any.whl (20 kB)\n",
      "Collecting s3transfer<0.7.0,>=0.6.0 (from boto3)\n",
      "  Downloading s3transfer-0.6.1-py3-none-any.whl (79 kB)\n",
      "\u001b[2K     \u001b[90m━━━━━━━━━━━━━━━━━━━━━━━━━━━━━━━━━━━━━━━━\u001b[0m \u001b[32m79.8/79.8 kB\u001b[0m \u001b[31m13.4 MB/s\u001b[0m eta \u001b[36m0:00:00\u001b[0m\n",
      "\u001b[?25hRequirement already satisfied: python-dateutil<3.0.0,>=2.1 in /usr/local/lib/python3.8/dist-packages (from botocore<1.30.0,>=1.29.164->boto3) (2.8.2)\n",
      "Collecting urllib3<1.27,>=1.25.4 (from botocore<1.30.0,>=1.29.164->boto3)\n",
      "  Downloading urllib3-1.26.16-py2.py3-none-any.whl (143 kB)\n",
      "\u001b[2K     \u001b[90m━━━━━━━━━━━━━━━━━━━━━━━━━━━━━━━━━━━━━━\u001b[0m \u001b[32m143.1/143.1 kB\u001b[0m \u001b[31m24.7 MB/s\u001b[0m eta \u001b[36m0:00:00\u001b[0m\n",
      "\u001b[?25hRequirement already satisfied: six>=1.5 in /usr/local/lib/python3.8/dist-packages (from python-dateutil<3.0.0,>=2.1->botocore<1.30.0,>=1.29.164->boto3) (1.16.0)\n",
      "Installing collected packages: urllib3, jmespath, botocore, s3transfer, boto3\n",
      "  Attempting uninstall: urllib3\n",
      "    Found existing installation: urllib3 2.0.3\n",
      "    Uninstalling urllib3-2.0.3:\n",
      "      Successfully uninstalled urllib3-2.0.3\n",
      "Successfully installed boto3-1.26.164 botocore-1.29.164 jmespath-1.0.1 s3transfer-0.6.1 urllib3-1.26.16\n",
      "\u001b[33mWARNING: Running pip as the 'root' user can result in broken permissions and conflicting behaviour with the system package manager. It is recommended to use a virtual environment instead: https://pip.pypa.io/warnings/venv\u001b[0m\u001b[33m\n",
      "\u001b[0m"
     ]
    }
   ],
   "source": [
    "!pip install requests\n",
    "!pip install xmltodict\n",
    "!pip install boto3"
   ]
  },
  {
   "cell_type": "code",
   "execution_count": 2,
   "id": "248bdc55-5416-4c0f-b76c-6bbb5ff59df8",
   "metadata": {},
   "outputs": [],
   "source": [
    "import geopandas\n",
    "import json\n",
    "import shapely\n",
    "import shapely.geometry\n",
    "import xarray\n",
    "import rasterio as rio\n",
    "import rioxarray\n",
    "import os\n",
    "import fiona\n",
    "import nasa_hls\n",
    "import urllib.request as urlreq\n",
    "import pandas as pd\n",
    "import numpy as np\n",
    "import requests\n",
    "import xmltodict\n",
    "import shutil\n",
    "import datetime\n",
    "\n",
    "from shapely.ops import transform\n",
    "from shapely.geometry import Point\n",
    "from shapely.geometry import Polygon\n",
    "from pystac_client import Client \n",
    "from collections import defaultdict\n",
    "from glob import glob\n",
    "from rasterio.enums import Resampling\n",
    "from rasterio import Affine\n",
    "from rasterio.crs import CRS\n",
    "import matplotlib.pyplot as plt\n",
    "from subprocess import Popen, PIPE\n",
    "from tqdm import tqdm\n",
    "pd.set_option('display.max_columns', None)\n",
    "pd.set_option('display.max_rows', None)\n",
    "\n",
    "%matplotlib inline"
   ]
  },
  {
   "cell_type": "code",
   "execution_count": 3,
   "id": "d3966fbc-2da6-4504-9eeb-707831a40aab",
   "metadata": {},
   "outputs": [],
   "source": [
    "##### START OPTIONS #####\n",
    "yoi = [2021]\n",
    "cloud_thres = 5\n",
    "valid_months = [3,4,5,6,7,8,9]\n",
    "root_path = \"/home/gfm-gap-filling-td/t3_data/\"\n",
    "\n",
    "## file paths\n",
    "# spath = root_path + f\"CDL_HLS_dataframe{yoi[0]}\"\n",
    "# image_index_file = root_path + f\"image_index{yoi[0]}\"\n",
    "chip_file =  root_path + \"chip_bbox.geojson\"\n",
    "# chip_csv = root_path + \"chip_tracker.csv\"\n",
    "kml_file = root_path + 'sentinel_tile_grid.kml'\n",
    "# cdl_reclass_csv = root_path + \"cdl_freq.csv\"\n",
    "# tile_tracker_csv = root_path + \"tile_tracker.csv\"\n",
    "\n",
    "## folder paths\n",
    "# hdf_dir = root_path + \"hdf/\"\n",
    "chip_dir = root_path + 'chips/'\n",
    "tif_dir = root_path + 'tif/'\n",
    "# chip_dir_binary = root_path + 'chips_binary/'\n",
    "chip_dir_multi = root_path + 'chips_multi/'\n",
    "\n",
    "chip_dir_filt = root_path + 'chips_filtered/'\n",
    "# chip_dir_binary_filt = root_path + 'chips_binary_filtered/'\n",
    "chip_dir_multi_filt = root_path + 'chips_multi_filtered/'\n",
    "\n",
    "chip_fmask_dir = root_path + 'chips_fmask/'\n",
    "\n",
    "#####  END OPTIONS  #####"
   ]
  },
  {
   "cell_type": "code",
   "execution_count": 4,
   "id": "aed51a15-e247-47cd-b6a4-977756b4178e",
   "metadata": {},
   "outputs": [],
   "source": [
    "with open(chip_file, \"r\") as file:\n",
    "    chips = json.load(file)\n",
    "    \n",
    "chip_ids = []\n",
    "chip_x = []\n",
    "chip_y = []\n",
    "for item in chips['features']:\n",
    "    #print(item)\n",
    "    chip_ids.append(item['properties']['id'])\n",
    "    chip_x.append(item['properties']['center'][0])\n",
    "    chip_y.append(item['properties']['center'][1])"
   ]
  },
  {
   "cell_type": "code",
   "execution_count": 5,
   "id": "1b6642fe-7b11-434f-b1b9-9bb1bacb3a08",
   "metadata": {},
   "outputs": [
    {
     "data": {
      "text/html": [
       "<div>\n",
       "<style scoped>\n",
       "    .dataframe tbody tr th:only-of-type {\n",
       "        vertical-align: middle;\n",
       "    }\n",
       "\n",
       "    .dataframe tbody tr th {\n",
       "        vertical-align: top;\n",
       "    }\n",
       "\n",
       "    .dataframe thead th {\n",
       "        text-align: right;\n",
       "    }\n",
       "</style>\n",
       "<table border=\"1\" class=\"dataframe\">\n",
       "  <thead>\n",
       "    <tr style=\"text-align: right;\">\n",
       "      <th></th>\n",
       "      <th>Name</th>\n",
       "      <th>Description</th>\n",
       "      <th>geometry</th>\n",
       "      <th>minx</th>\n",
       "      <th>miny</th>\n",
       "      <th>maxx</th>\n",
       "      <th>maxy</th>\n",
       "    </tr>\n",
       "  </thead>\n",
       "  <tbody>\n",
       "    <tr>\n",
       "      <th>0</th>\n",
       "      <td>01CCV</td>\n",
       "      <td>TILE PROPERTIES&lt;br&gt;&lt;table border=0 cellpadding...</td>\n",
       "      <td>GEOMETRYCOLLECTION Z (POLYGON Z ((180.00000 -7...</td>\n",
       "      <td>-180.0</td>\n",
       "      <td>-73.064633</td>\n",
       "      <td>180.0</td>\n",
       "      <td>-72.012478</td>\n",
       "    </tr>\n",
       "    <tr>\n",
       "      <th>1</th>\n",
       "      <td>01CDH</td>\n",
       "      <td>TILE PROPERTIES&lt;br&gt;&lt;table border=0 cellpadding...</td>\n",
       "      <td>GEOMETRYCOLLECTION Z (POLYGON Z ((180.00000 -8...</td>\n",
       "      <td>-180.0</td>\n",
       "      <td>-83.835334</td>\n",
       "      <td>180.0</td>\n",
       "      <td>-82.796720</td>\n",
       "    </tr>\n",
       "    <tr>\n",
       "      <th>2</th>\n",
       "      <td>01CDJ</td>\n",
       "      <td>TILE PROPERTIES&lt;br&gt;&lt;table border=0 cellpadding...</td>\n",
       "      <td>GEOMETRYCOLLECTION Z (POLYGON Z ((180.00000 -8...</td>\n",
       "      <td>-180.0</td>\n",
       "      <td>-82.939452</td>\n",
       "      <td>180.0</td>\n",
       "      <td>-81.906947</td>\n",
       "    </tr>\n",
       "    <tr>\n",
       "      <th>3</th>\n",
       "      <td>01CDK</td>\n",
       "      <td>TILE PROPERTIES&lt;br&gt;&lt;table border=0 cellpadding...</td>\n",
       "      <td>GEOMETRYCOLLECTION Z (POLYGON Z ((180.00000 -8...</td>\n",
       "      <td>-180.0</td>\n",
       "      <td>-82.044055</td>\n",
       "      <td>180.0</td>\n",
       "      <td>-81.016439</td>\n",
       "    </tr>\n",
       "    <tr>\n",
       "      <th>4</th>\n",
       "      <td>01CDL</td>\n",
       "      <td>TILE PROPERTIES&lt;br&gt;&lt;table border=0 cellpadding...</td>\n",
       "      <td>GEOMETRYCOLLECTION Z (POLYGON Z ((180.00000 -8...</td>\n",
       "      <td>-180.0</td>\n",
       "      <td>-81.148070</td>\n",
       "      <td>180.0</td>\n",
       "      <td>-80.124456</td>\n",
       "    </tr>\n",
       "  </tbody>\n",
       "</table>\n",
       "</div>"
      ],
      "text/plain": [
       "    Name                                        Description  \\\n",
       "0  01CCV  TILE PROPERTIES<br><table border=0 cellpadding...   \n",
       "1  01CDH  TILE PROPERTIES<br><table border=0 cellpadding...   \n",
       "2  01CDJ  TILE PROPERTIES<br><table border=0 cellpadding...   \n",
       "3  01CDK  TILE PROPERTIES<br><table border=0 cellpadding...   \n",
       "4  01CDL  TILE PROPERTIES<br><table border=0 cellpadding...   \n",
       "\n",
       "                                            geometry   minx       miny   maxx  \\\n",
       "0  GEOMETRYCOLLECTION Z (POLYGON Z ((180.00000 -7... -180.0 -73.064633  180.0   \n",
       "1  GEOMETRYCOLLECTION Z (POLYGON Z ((180.00000 -8... -180.0 -83.835334  180.0   \n",
       "2  GEOMETRYCOLLECTION Z (POLYGON Z ((180.00000 -8... -180.0 -82.939452  180.0   \n",
       "3  GEOMETRYCOLLECTION Z (POLYGON Z ((180.00000 -8... -180.0 -82.044055  180.0   \n",
       "4  GEOMETRYCOLLECTION Z (POLYGON Z ((180.00000 -8... -180.0 -81.148070  180.0   \n",
       "\n",
       "        maxy  \n",
       "0 -72.012478  \n",
       "1 -82.796720  \n",
       "2 -81.906947  \n",
       "3 -81.016439  \n",
       "4 -80.124456  "
      ]
     },
     "execution_count": 5,
     "metadata": {},
     "output_type": "execute_result"
    }
   ],
   "source": [
    "fiona.drvsupport.supported_drivers['KML'] = 'rw'\n",
    "tile_src = geopandas.read_file(kml_file, driver='KML')\n",
    "tile_name = []\n",
    "tile_x = []\n",
    "tile_y = []\n",
    "for tile_ind in range(tile_src.shape[0]):\n",
    "    tile_name.append(tile_src.iloc[tile_ind].Name)\n",
    "    tile_x.append(tile_src.iloc[tile_ind].geometry.centroid.x)\n",
    "    tile_y.append(tile_src.iloc[tile_ind].geometry.centroid.y)\n",
    "tile_name = np.array(tile_name)\n",
    "tile_x = np.array(tile_x)\n",
    "tile_y = np.array(tile_y)\n",
    "tile_src = pd.concat([tile_src, tile_src.bounds], axis = 1)\n",
    "tile_src.head(5)"
   ]
  },
  {
   "cell_type": "code",
   "execution_count": 6,
   "id": "02dc8d89-fc24-4bba-a459-f78ae8de8acc",
   "metadata": {},
   "outputs": [],
   "source": [
    "def find_tile(x,y):\n",
    "# Identify closest tile\n",
    "    s = (tile_x - x)**2+(tile_y - y)**2\n",
    "    tname = tile_name[np.argmin(s)]\n",
    "    return(tname)"
   ]
  },
  {
   "cell_type": "code",
   "execution_count": 7,
   "id": "f5ec3c74-4751-4e0e-9d27-6a9d6acd3f2a",
   "metadata": {
    "scrolled": true
   },
   "outputs": [
    {
     "data": {
      "text/html": [
       "<div>\n",
       "<style scoped>\n",
       "    .dataframe tbody tr th:only-of-type {\n",
       "        vertical-align: middle;\n",
       "    }\n",
       "\n",
       "    .dataframe tbody tr th {\n",
       "        vertical-align: top;\n",
       "    }\n",
       "\n",
       "    .dataframe thead th {\n",
       "        text-align: right;\n",
       "    }\n",
       "</style>\n",
       "<table border=\"1\" class=\"dataframe\">\n",
       "  <thead>\n",
       "    <tr style=\"text-align: right;\">\n",
       "      <th></th>\n",
       "      <th>chip_id</th>\n",
       "      <th>chip_x</th>\n",
       "      <th>chip_y</th>\n",
       "      <th>tile</th>\n",
       "    </tr>\n",
       "  </thead>\n",
       "  <tbody>\n",
       "    <tr>\n",
       "      <th>9095</th>\n",
       "      <td>069_125</td>\n",
       "      <td>-91.273691</td>\n",
       "      <td>29.693950</td>\n",
       "      <td>15RXN</td>\n",
       "    </tr>\n",
       "    <tr>\n",
       "      <th>9096</th>\n",
       "      <td>069_126</td>\n",
       "      <td>-91.274726</td>\n",
       "      <td>29.633329</td>\n",
       "      <td>15RXN</td>\n",
       "    </tr>\n",
       "    <tr>\n",
       "      <th>9097</th>\n",
       "      <td>069_127</td>\n",
       "      <td>-91.275758</td>\n",
       "      <td>29.572708</td>\n",
       "      <td>15RXN</td>\n",
       "    </tr>\n",
       "    <tr>\n",
       "      <th>9098</th>\n",
       "      <td>069_128</td>\n",
       "      <td>-91.276786</td>\n",
       "      <td>29.512086</td>\n",
       "      <td>15RXN</td>\n",
       "    </tr>\n",
       "    <tr>\n",
       "      <th>9099</th>\n",
       "      <td>069_129</td>\n",
       "      <td>-91.277812</td>\n",
       "      <td>29.451463</td>\n",
       "      <td>15RXN</td>\n",
       "    </tr>\n",
       "  </tbody>\n",
       "</table>\n",
       "</div>"
      ],
      "text/plain": [
       "      chip_id     chip_x     chip_y   tile\n",
       "9095  069_125 -91.273691  29.693950  15RXN\n",
       "9096  069_126 -91.274726  29.633329  15RXN\n",
       "9097  069_127 -91.275758  29.572708  15RXN\n",
       "9098  069_128 -91.276786  29.512086  15RXN\n",
       "9099  069_129 -91.277812  29.451463  15RXN"
      ]
     },
     "execution_count": 7,
     "metadata": {},
     "output_type": "execute_result"
    }
   ],
   "source": [
    "chip_df = pd.DataFrame({\"chip_id\" : chip_ids, \"chip_x\" : chip_x, \"chip_y\" : chip_y})\n",
    "chip_df['tile'] = chip_df.apply(lambda row : find_tile(row['chip_x'], row['chip_y']), axis = 1)\n",
    "chip_df.tail(5)"
   ]
  },
  {
   "cell_type": "code",
   "execution_count": 8,
   "id": "477fc3c0-5faf-4a18-9733-dbb3c5ea4da2",
   "metadata": {},
   "outputs": [
    {
     "data": {
      "text/plain": [
       "{'type': 'MultiPolygon',\n",
       " 'coordinates': [[[[-91.31194315793084, 29.482218836228824],\n",
       "    [-91.31294658186975, 29.42159483294573],\n",
       "    [-91.24370141095643, 29.420699714104572],\n",
       "    [-91.24265685208046, 29.481321513467094],\n",
       "    [-91.31194315793084, 29.482218836228824]]]]}"
      ]
     },
     "execution_count": 8,
     "metadata": {},
     "output_type": "execute_result"
    }
   ],
   "source": [
    "chips['features'][9099]['geometry']"
   ]
  },
  {
   "cell_type": "code",
   "execution_count": 9,
   "id": "4833df03-02b7-40da-8257-d8419fb340b7",
   "metadata": {},
   "outputs": [
    {
     "data": {
      "text/plain": [
       "['14SQG', '14SQF', '14SQE', '14SQD', '14SQC']"
      ]
     },
     "execution_count": 9,
     "metadata": {},
     "output_type": "execute_result"
    }
   ],
   "source": [
    "tiles = chip_df.tile.unique().tolist()\n",
    "tiles[0:5]"
   ]
  },
  {
   "cell_type": "code",
   "execution_count": null,
   "id": "0cbc6e0e-4cd1-467d-a06a-6e32a47792fd",
   "metadata": {},
   "outputs": [],
   "source": [
    "## go through list(item_collectio) and get only those item ids that are in current tile\n",
    "## get list of item ids that have 5% or less cloud cover\n",
    "\n",
    "## ask mike\n",
    "## spatial coverage filtering (100%, 90%, 80%.... 50%)\n",
    "## find first, middle, last images by time\n",
    "\n",
    "## ask steve about s3 access\n",
    "## download those images, B02, B03, B04, B8A, Fmask"
   ]
  },
  {
   "cell_type": "code",
   "execution_count": 10,
   "id": "8b81d838-473d-46b0-ac25-cefae3cabb0e",
   "metadata": {},
   "outputs": [],
   "source": [
    "STAC_URL = 'https://cmr.earthdata.nasa.gov/stac'\n",
    "catalog = Client.open(f'{STAC_URL}/LPCLOUD/')"
   ]
  },
  {
   "cell_type": "code",
   "execution_count": 11,
   "id": "c80adeec-2bea-4796-8b2b-7110e9f059bb",
   "metadata": {
    "editable": true,
    "slideshow": {
     "slide_type": ""
    },
    "tags": []
   },
   "outputs": [
    {
     "name": "stdout",
     "output_type": "stream",
     "text": [
      "There are a total of 60 tiles\n",
      "Gathering information for tile T14SQG\n",
      "There are a total of 69 matching tiles for chip_000_000's geometry\n"
     ]
    },
    {
     "name": "stderr",
     "output_type": "stream",
     "text": [
      "100%|██████████████████████████████████████████████████████████████████████████████████| 69/69 [00:06<00:00, 10.88it/s]\n"
     ]
    },
    {
     "name": "stdout",
     "output_type": "stream",
     "text": [
      "Information for tile T14SQG is collected, a total of 11 out of 69 tiles pass the filter (1/60)\n",
      "Gathering information for tile T14SQF\n",
      "There are a total of 141 matching tiles for chip_000_005's geometry\n"
     ]
    },
    {
     "name": "stderr",
     "output_type": "stream",
     "text": [
      "100%|████████████████████████████████████████████████████████████████████████████████| 141/141 [00:05<00:00, 27.07it/s]\n"
     ]
    },
    {
     "name": "stdout",
     "output_type": "stream",
     "text": [
      "Information for tile T14SQF is collected, a total of 12 out of 141 tiles pass the filter (2/60)\n",
      "Gathering information for tile T14SQE\n",
      "There are a total of 279 matching tiles for chip_000_020's geometry\n"
     ]
    },
    {
     "name": "stderr",
     "output_type": "stream",
     "text": [
      "100%|████████████████████████████████████████████████████████████████████████████████| 279/279 [00:07<00:00, 38.00it/s]\n"
     ]
    },
    {
     "name": "stdout",
     "output_type": "stream",
     "text": [
      "Information for tile T14SQE is collected, a total of 25 out of 279 tiles pass the filter (3/60)\n",
      "Gathering information for tile T14SQD\n",
      "There are a total of 273 matching tiles for chip_000_035's geometry\n"
     ]
    },
    {
     "name": "stderr",
     "output_type": "stream",
     "text": [
      "100%|████████████████████████████████████████████████████████████████████████████████| 273/273 [00:17<00:00, 15.34it/s]\n"
     ]
    },
    {
     "name": "stdout",
     "output_type": "stream",
     "text": [
      "Information for tile T14SQD is collected, a total of 29 out of 273 tiles pass the filter (4/60)\n",
      "Gathering information for tile T14SQC\n",
      "There are a total of 283 matching tiles for chip_000_050's geometry\n"
     ]
    },
    {
     "name": "stderr",
     "output_type": "stream",
     "text": [
      "100%|████████████████████████████████████████████████████████████████████████████████| 283/283 [00:19<00:00, 14.50it/s]\n"
     ]
    },
    {
     "name": "stdout",
     "output_type": "stream",
     "text": [
      "Information for tile T14SQC is collected, a total of 31 out of 283 tiles pass the filter (5/60)\n",
      "Gathering information for tile T14SQB\n",
      "There are a total of 157 matching tiles for chip_000_065's geometry\n"
     ]
    },
    {
     "name": "stderr",
     "output_type": "stream",
     "text": [
      "100%|████████████████████████████████████████████████████████████████████████████████| 157/157 [00:10<00:00, 14.39it/s]\n"
     ]
    },
    {
     "name": "stdout",
     "output_type": "stream",
     "text": [
      "Information for tile T14SQB is collected, a total of 13 out of 157 tiles pass the filter (6/60)\n",
      "Gathering information for tile T14SQA\n",
      "There are a total of 160 matching tiles for chip_000_079's geometry\n"
     ]
    },
    {
     "name": "stderr",
     "output_type": "stream",
     "text": [
      "100%|████████████████████████████████████████████████████████████████████████████████| 160/160 [00:09<00:00, 17.04it/s]\n"
     ]
    },
    {
     "name": "stdout",
     "output_type": "stream",
     "text": [
      "Information for tile T14SQA is collected, a total of 15 out of 160 tiles pass the filter (7/60)\n",
      "Gathering information for tile T14RQV\n",
      "There are a total of 164 matching tiles for chip_000_094's geometry\n"
     ]
    },
    {
     "name": "stderr",
     "output_type": "stream",
     "text": [
      "100%|████████████████████████████████████████████████████████████████████████████████| 164/164 [00:06<00:00, 24.67it/s]\n"
     ]
    },
    {
     "name": "stdout",
     "output_type": "stream",
     "text": [
      "Information for tile T14RQV is collected, a total of 12 out of 164 tiles pass the filter (8/60)\n",
      "Gathering information for tile T14RQU\n",
      "There are a total of 169 matching tiles for chip_000_109's geometry\n"
     ]
    },
    {
     "name": "stderr",
     "output_type": "stream",
     "text": [
      "100%|████████████████████████████████████████████████████████████████████████████████| 169/169 [00:03<00:00, 56.25it/s]\n"
     ]
    },
    {
     "name": "stdout",
     "output_type": "stream",
     "text": [
      "Information for tile T14RQU is collected, a total of 6 out of 169 tiles pass the filter (9/60)\n",
      "Gathering information for tile T14RQT\n",
      "There are a total of 162 matching tiles for chip_000_124's geometry\n"
     ]
    },
    {
     "name": "stderr",
     "output_type": "stream",
     "text": [
      "100%|████████████████████████████████████████████████████████████████████████████████| 162/162 [00:03<00:00, 51.93it/s]\n"
     ]
    },
    {
     "name": "stdout",
     "output_type": "stream",
     "text": [
      "Information for tile T14RQT is collected, a total of 7 out of 162 tiles pass the filter (10/60)\n",
      "Gathering information for tile T15RTP\n",
      "There are a total of 86 matching tiles for chip_002_112's geometry\n"
     ]
    },
    {
     "name": "stderr",
     "output_type": "stream",
     "text": [
      "100%|██████████████████████████████████████████████████████████████████████████████████| 86/86 [00:02<00:00, 33.27it/s]\n"
     ]
    },
    {
     "name": "stdout",
     "output_type": "stream",
     "text": [
      "Information for tile T15RTP is collected, a total of 6 out of 86 tiles pass the filter (11/60)\n",
      "Gathering information for tile T15RTN\n",
      "There are a total of 162 matching tiles for chip_002_124's geometry\n"
     ]
    },
    {
     "name": "stderr",
     "output_type": "stream",
     "text": [
      "100%|████████████████████████████████████████████████████████████████████████████████| 162/162 [00:02<00:00, 74.48it/s]\n"
     ]
    },
    {
     "name": "stdout",
     "output_type": "stream",
     "text": [
      "Information for tile T15RTN is collected, a total of 3 out of 162 tiles pass the filter (12/60)\n",
      "Gathering information for tile T15STS\n",
      "There are a total of 79 matching tiles for chip_003_077's geometry\n"
     ]
    },
    {
     "name": "stderr",
     "output_type": "stream",
     "text": [
      "100%|██████████████████████████████████████████████████████████████████████████████████| 79/79 [00:07<00:00, 10.71it/s]\n"
     ]
    },
    {
     "name": "stdout",
     "output_type": "stream",
     "text": [
      "Information for tile T15STS is collected, a total of 14 out of 79 tiles pass the filter (13/60)\n",
      "Gathering information for tile T15STR\n",
      "There are a total of 160 matching tiles for chip_003_080's geometry\n"
     ]
    },
    {
     "name": "stderr",
     "output_type": "stream",
     "text": [
      "100%|████████████████████████████████████████████████████████████████████████████████| 160/160 [00:07<00:00, 21.20it/s]\n"
     ]
    },
    {
     "name": "stdout",
     "output_type": "stream",
     "text": [
      "Information for tile T15STR is collected, a total of 14 out of 160 tiles pass the filter (14/60)\n",
      "Gathering information for tile T15RTQ\n",
      "There are a total of 164 matching tiles for chip_003_094's geometry\n"
     ]
    },
    {
     "name": "stderr",
     "output_type": "stream",
     "text": [
      "100%|████████████████████████████████████████████████████████████████████████████████| 164/164 [00:05<00:00, 30.80it/s]\n"
     ]
    },
    {
     "name": "stdout",
     "output_type": "stream",
     "text": [
      "Information for tile T15RTQ is collected, a total of 10 out of 164 tiles pass the filter (15/60)\n",
      "Gathering information for tile T15STU\n",
      "There are a total of 138 matching tiles for chip_004_042's geometry\n"
     ]
    },
    {
     "name": "stderr",
     "output_type": "stream",
     "text": [
      "100%|████████████████████████████████████████████████████████████████████████████████| 138/138 [00:16<00:00,  8.35it/s]\n"
     ]
    },
    {
     "name": "stdout",
     "output_type": "stream",
     "text": [
      "Information for tile T15STU is collected, a total of 27 out of 138 tiles pass the filter (16/60)\n",
      "Gathering information for tile T15STT\n",
      "There are a total of 151 matching tiles for chip_004_050's geometry\n"
     ]
    },
    {
     "name": "stderr",
     "output_type": "stream",
     "text": [
      "100%|████████████████████████████████████████████████████████████████████████████████| 151/151 [00:08<00:00, 18.86it/s]\n"
     ]
    },
    {
     "name": "stdout",
     "output_type": "stream",
     "text": [
      "Information for tile T15STT is collected, a total of 15 out of 151 tiles pass the filter (17/60)\n",
      "Gathering information for tile T15STA\n",
      "There are a total of 144 matching tiles for chip_005_008's geometry\n"
     ]
    },
    {
     "name": "stderr",
     "output_type": "stream",
     "text": [
      "100%|████████████████████████████████████████████████████████████████████████████████| 144/144 [00:12<00:00, 11.61it/s]\n"
     ]
    },
    {
     "name": "stdout",
     "output_type": "stream",
     "text": [
      "Information for tile T15STA is collected, a total of 26 out of 144 tiles pass the filter (18/60)\n",
      "Gathering information for tile T15STV\n",
      "There are a total of 279 matching tiles for chip_005_020's geometry\n"
     ]
    },
    {
     "name": "stderr",
     "output_type": "stream",
     "text": [
      "100%|████████████████████████████████████████████████████████████████████████████████| 279/279 [00:12<00:00, 22.87it/s]\n"
     ]
    },
    {
     "name": "stdout",
     "output_type": "stream",
     "text": [
      "Information for tile T15STV is collected, a total of 26 out of 279 tiles pass the filter (19/60)\n",
      "Gathering information for tile T15STB\n",
      "There are a total of 136 matching tiles for chip_006_000's geometry\n"
     ]
    },
    {
     "name": "stderr",
     "output_type": "stream",
     "text": [
      "100%|████████████████████████████████████████████████████████████████████████████████| 136/136 [00:10<00:00, 13.58it/s]\n"
     ]
    },
    {
     "name": "stdout",
     "output_type": "stream",
     "text": [
      "Information for tile T15STB is collected, a total of 26 out of 136 tiles pass the filter (20/60)\n",
      "Gathering information for tile T15SUB\n",
      "There are a total of 142 matching tiles for chip_016_000's geometry\n"
     ]
    },
    {
     "name": "stderr",
     "output_type": "stream",
     "text": [
      "100%|████████████████████████████████████████████████████████████████████████████████| 142/142 [00:11<00:00, 11.87it/s]\n"
     ]
    },
    {
     "name": "stdout",
     "output_type": "stream",
     "text": [
      "Information for tile T15SUB is collected, a total of 31 out of 142 tiles pass the filter (21/60)\n",
      "Gathering information for tile T15SUA\n",
      "There are a total of 146 matching tiles for chip_016_005's geometry\n"
     ]
    },
    {
     "name": "stderr",
     "output_type": "stream",
     "text": [
      "100%|████████████████████████████████████████████████████████████████████████████████| 146/146 [00:06<00:00, 21.70it/s]\n"
     ]
    },
    {
     "name": "stdout",
     "output_type": "stream",
     "text": [
      "Information for tile T15SUA is collected, a total of 16 out of 146 tiles pass the filter (22/60)\n",
      "Gathering information for tile T15SUV\n",
      "There are a total of 144 matching tiles for chip_016_020's geometry\n"
     ]
    },
    {
     "name": "stderr",
     "output_type": "stream",
     "text": [
      "100%|████████████████████████████████████████████████████████████████████████████████| 144/144 [00:04<00:00, 30.57it/s]\n"
     ]
    },
    {
     "name": "stdout",
     "output_type": "stream",
     "text": [
      "Information for tile T15SUV is collected, a total of 11 out of 144 tiles pass the filter (23/60)\n",
      "Gathering information for tile T15SUU\n",
      "There are a total of 145 matching tiles for chip_016_035's geometry\n"
     ]
    },
    {
     "name": "stderr",
     "output_type": "stream",
     "text": [
      "100%|████████████████████████████████████████████████████████████████████████████████| 145/145 [00:03<00:00, 38.74it/s]\n"
     ]
    },
    {
     "name": "stdout",
     "output_type": "stream",
     "text": [
      "Information for tile T15SUU is collected, a total of 11 out of 145 tiles pass the filter (24/60)\n",
      "Gathering information for tile T15SUT\n",
      "There are a total of 149 matching tiles for chip_016_050's geometry\n"
     ]
    },
    {
     "name": "stderr",
     "output_type": "stream",
     "text": [
      "100%|████████████████████████████████████████████████████████████████████████████████| 149/149 [00:04<00:00, 32.11it/s]\n"
     ]
    },
    {
     "name": "stdout",
     "output_type": "stream",
     "text": [
      "Information for tile T15SUT is collected, a total of 13 out of 149 tiles pass the filter (25/60)\n",
      "Gathering information for tile T15SUS\n",
      "There are a total of 150 matching tiles for chip_016_065's geometry\n"
     ]
    },
    {
     "name": "stderr",
     "output_type": "stream",
     "text": [
      "100%|████████████████████████████████████████████████████████████████████████████████| 150/150 [00:03<00:00, 38.55it/s]\n"
     ]
    },
    {
     "name": "stdout",
     "output_type": "stream",
     "text": [
      "Information for tile T15SUS is collected, a total of 13 out of 150 tiles pass the filter (26/60)\n",
      "Gathering information for tile T15SUR\n",
      "There are a total of 156 matching tiles for chip_016_080's geometry\n"
     ]
    },
    {
     "name": "stderr",
     "output_type": "stream",
     "text": [
      "100%|████████████████████████████████████████████████████████████████████████████████| 156/156 [00:04<00:00, 35.68it/s]\n"
     ]
    },
    {
     "name": "stdout",
     "output_type": "stream",
     "text": [
      "Information for tile T15SUR is collected, a total of 12 out of 156 tiles pass the filter (27/60)\n",
      "Gathering information for tile T15RUQ\n",
      "There are a total of 283 matching tiles for chip_016_094's geometry\n"
     ]
    },
    {
     "name": "stderr",
     "output_type": "stream",
     "text": [
      "100%|████████████████████████████████████████████████████████████████████████████████| 283/283 [00:06<00:00, 42.50it/s]\n"
     ]
    },
    {
     "name": "stdout",
     "output_type": "stream",
     "text": [
      "Information for tile T15RUQ is collected, a total of 18 out of 283 tiles pass the filter (28/60)\n",
      "Gathering information for tile T15RUP\n",
      "There are a total of 330 matching tiles for chip_016_109's geometry\n"
     ]
    },
    {
     "name": "stderr",
     "output_type": "stream",
     "text": [
      "100%|████████████████████████████████████████████████████████████████████████████████| 330/330 [00:05<00:00, 65.83it/s]\n"
     ]
    },
    {
     "name": "stdout",
     "output_type": "stream",
     "text": [
      "Information for tile T15RUP is collected, a total of 15 out of 330 tiles pass the filter (29/60)\n",
      "Gathering information for tile T15RUN\n",
      "There are a total of 324 matching tiles for chip_016_124's geometry\n"
     ]
    },
    {
     "name": "stderr",
     "output_type": "stream",
     "text": [
      "100%|████████████████████████████████████████████████████████████████████████████████| 324/324 [00:04<00:00, 78.39it/s]\n"
     ]
    },
    {
     "name": "stdout",
     "output_type": "stream",
     "text": [
      "Information for tile T15RUN is collected, a total of 12 out of 324 tiles pass the filter (30/60)\n",
      "Gathering information for tile T15SVB\n",
      "There are a total of 74 matching tiles for chip_030_000's geometry\n"
     ]
    },
    {
     "name": "stderr",
     "output_type": "stream",
     "text": [
      "100%|██████████████████████████████████████████████████████████████████████████████████| 74/74 [00:04<00:00, 17.83it/s]\n"
     ]
    },
    {
     "name": "stdout",
     "output_type": "stream",
     "text": [
      "Information for tile T15SVB is collected, a total of 14 out of 74 tiles pass the filter (31/60)\n",
      "Gathering information for tile T15SVA\n",
      "There are a total of 74 matching tiles for chip_030_010's geometry\n"
     ]
    },
    {
     "name": "stderr",
     "output_type": "stream",
     "text": [
      "100%|██████████████████████████████████████████████████████████████████████████████████| 74/74 [00:03<00:00, 21.87it/s]\n"
     ]
    },
    {
     "name": "stdout",
     "output_type": "stream",
     "text": [
      "Information for tile T15SVA is collected, a total of 14 out of 74 tiles pass the filter (32/60)\n",
      "Gathering information for tile T15SVV\n",
      "There are a total of 73 matching tiles for chip_030_025's geometry\n"
     ]
    },
    {
     "name": "stderr",
     "output_type": "stream",
     "text": [
      "100%|██████████████████████████████████████████████████████████████████████████████████| 73/73 [00:02<00:00, 31.94it/s]\n"
     ]
    },
    {
     "name": "stdout",
     "output_type": "stream",
     "text": [
      "Information for tile T15SVV is collected, a total of 8 out of 73 tiles pass the filter (33/60)\n",
      "Gathering information for tile T15SVU\n",
      "There are a total of 147 matching tiles for chip_030_040's geometry\n"
     ]
    },
    {
     "name": "stderr",
     "output_type": "stream",
     "text": [
      "100%|████████████████████████████████████████████████████████████████████████████████| 147/147 [00:07<00:00, 18.63it/s]\n"
     ]
    },
    {
     "name": "stdout",
     "output_type": "stream",
     "text": [
      "Information for tile T15SVU is collected, a total of 19 out of 147 tiles pass the filter (34/60)\n",
      "Gathering information for tile T15SVT\n",
      "There are a total of 148 matching tiles for chip_030_055's geometry\n"
     ]
    },
    {
     "name": "stderr",
     "output_type": "stream",
     "text": [
      "100%|████████████████████████████████████████████████████████████████████████████████| 148/148 [00:08<00:00, 17.60it/s]\n"
     ]
    },
    {
     "name": "stdout",
     "output_type": "stream",
     "text": [
      "Information for tile T15SVT is collected, a total of 22 out of 148 tiles pass the filter (35/60)\n",
      "Gathering information for tile T15SVS\n",
      "There are a total of 143 matching tiles for chip_030_069's geometry\n"
     ]
    },
    {
     "name": "stderr",
     "output_type": "stream",
     "text": [
      "100%|████████████████████████████████████████████████████████████████████████████████| 143/143 [00:06<00:00, 21.89it/s]\n"
     ]
    },
    {
     "name": "stdout",
     "output_type": "stream",
     "text": [
      "Information for tile T15SVS is collected, a total of 21 out of 143 tiles pass the filter (36/60)\n",
      "Gathering information for tile T15SVR\n",
      "There are a total of 75 matching tiles for chip_030_084's geometry\n"
     ]
    },
    {
     "name": "stderr",
     "output_type": "stream",
     "text": [
      "100%|██████████████████████████████████████████████████████████████████████████████████| 75/75 [00:02<00:00, 31.20it/s]\n"
     ]
    },
    {
     "name": "stdout",
     "output_type": "stream",
     "text": [
      "Information for tile T15SVR is collected, a total of 7 out of 75 tiles pass the filter (37/60)\n",
      "Gathering information for tile T15RVQ\n",
      "There are a total of 81 matching tiles for chip_030_098's geometry\n"
     ]
    },
    {
     "name": "stderr",
     "output_type": "stream",
     "text": [
      "100%|██████████████████████████████████████████████████████████████████████████████████| 81/81 [00:04<00:00, 19.77it/s]\n"
     ]
    },
    {
     "name": "stdout",
     "output_type": "stream",
     "text": [
      "Information for tile T15RVQ is collected, a total of 9 out of 81 tiles pass the filter (38/60)\n",
      "Gathering information for tile T15RVP\n",
      "There are a total of 80 matching tiles for chip_030_113's geometry\n"
     ]
    },
    {
     "name": "stderr",
     "output_type": "stream",
     "text": [
      "100%|██████████████████████████████████████████████████████████████████████████████████| 80/80 [00:02<00:00, 31.97it/s]\n"
     ]
    },
    {
     "name": "stdout",
     "output_type": "stream",
     "text": [
      "Information for tile T15RVP is collected, a total of 6 out of 80 tiles pass the filter (39/60)\n",
      "Gathering information for tile T15RVN\n",
      "There are a total of 84 matching tiles for chip_030_128's geometry\n"
     ]
    },
    {
     "name": "stderr",
     "output_type": "stream",
     "text": [
      "100%|██████████████████████████████████████████████████████████████████████████████████| 84/84 [00:02<00:00, 41.10it/s]\n"
     ]
    },
    {
     "name": "stdout",
     "output_type": "stream",
     "text": [
      "Information for tile T15RVN is collected, a total of 5 out of 84 tiles pass the filter (40/60)\n",
      "Gathering information for tile T15SWB\n",
      "There are a total of 135 matching tiles for chip_045_000's geometry\n"
     ]
    },
    {
     "name": "stderr",
     "output_type": "stream",
     "text": [
      "100%|████████████████████████████████████████████████████████████████████████████████| 135/135 [00:10<00:00, 12.60it/s]\n"
     ]
    },
    {
     "name": "stdout",
     "output_type": "stream",
     "text": [
      "Information for tile T15SWB is collected, a total of 25 out of 135 tiles pass the filter (41/60)\n",
      "Gathering information for tile T15SWA\n",
      "There are a total of 274 matching tiles for chip_045_005's geometry\n"
     ]
    },
    {
     "name": "stderr",
     "output_type": "stream",
     "text": [
      "100%|████████████████████████████████████████████████████████████████████████████████| 274/274 [00:08<00:00, 31.96it/s]\n"
     ]
    },
    {
     "name": "stdout",
     "output_type": "stream",
     "text": [
      "Information for tile T15SWA is collected, a total of 23 out of 274 tiles pass the filter (42/60)\n",
      "Gathering information for tile T15SWV\n",
      "There are a total of 241 matching tiles for chip_045_020's geometry\n"
     ]
    },
    {
     "name": "stderr",
     "output_type": "stream",
     "text": [
      "100%|████████████████████████████████████████████████████████████████████████████████| 241/241 [00:08<00:00, 29.31it/s]\n"
     ]
    },
    {
     "name": "stdout",
     "output_type": "stream",
     "text": [
      "Information for tile T15SWV is collected, a total of 22 out of 241 tiles pass the filter (43/60)\n",
      "Gathering information for tile T15SWU\n",
      "There are a total of 142 matching tiles for chip_045_035's geometry\n"
     ]
    },
    {
     "name": "stderr",
     "output_type": "stream",
     "text": [
      "100%|████████████████████████████████████████████████████████████████████████████████| 142/142 [00:04<00:00, 34.55it/s]\n"
     ]
    },
    {
     "name": "stdout",
     "output_type": "stream",
     "text": [
      "Information for tile T15SWU is collected, a total of 11 out of 142 tiles pass the filter (44/60)\n",
      "Gathering information for tile T15SWT\n",
      "There are a total of 147 matching tiles for chip_045_050's geometry\n"
     ]
    },
    {
     "name": "stderr",
     "output_type": "stream",
     "text": [
      "100%|████████████████████████████████████████████████████████████████████████████████| 147/147 [00:02<00:00, 56.62it/s]\n"
     ]
    },
    {
     "name": "stdout",
     "output_type": "stream",
     "text": [
      "Information for tile T15SWT is collected, a total of 8 out of 147 tiles pass the filter (45/60)\n",
      "Gathering information for tile T15SWS\n",
      "There are a total of 147 matching tiles for chip_045_065's geometry\n"
     ]
    },
    {
     "name": "stderr",
     "output_type": "stream",
     "text": [
      "100%|████████████████████████████████████████████████████████████████████████████████| 147/147 [00:01<00:00, 80.66it/s]\n"
     ]
    },
    {
     "name": "stdout",
     "output_type": "stream",
     "text": [
      "Information for tile T15SWS is collected, a total of 7 out of 147 tiles pass the filter (46/60)\n",
      "Gathering information for tile T15SWR\n",
      "There are a total of 148 matching tiles for chip_045_079's geometry\n"
     ]
    },
    {
     "name": "stderr",
     "output_type": "stream",
     "text": [
      "100%|████████████████████████████████████████████████████████████████████████████████| 148/148 [00:02<00:00, 55.47it/s]\n"
     ]
    },
    {
     "name": "stdout",
     "output_type": "stream",
     "text": [
      "Information for tile T15SWR is collected, a total of 8 out of 148 tiles pass the filter (47/60)\n",
      "Gathering information for tile T15RWQ\n",
      "There are a total of 154 matching tiles for chip_045_094's geometry\n"
     ]
    },
    {
     "name": "stderr",
     "output_type": "stream",
     "text": [
      "100%|████████████████████████████████████████████████████████████████████████████████| 154/154 [00:02<00:00, 76.61it/s]\n"
     ]
    },
    {
     "name": "stdout",
     "output_type": "stream",
     "text": [
      "Information for tile T15RWQ is collected, a total of 7 out of 154 tiles pass the filter (48/60)\n",
      "Gathering information for tile T15RWP\n",
      "There are a total of 155 matching tiles for chip_045_109's geometry\n"
     ]
    },
    {
     "name": "stderr",
     "output_type": "stream",
     "text": [
      "100%|████████████████████████████████████████████████████████████████████████████████| 155/155 [00:01<00:00, 94.69it/s]\n"
     ]
    },
    {
     "name": "stdout",
     "output_type": "stream",
     "text": [
      "Information for tile T15RWP is collected, a total of 4 out of 155 tiles pass the filter (49/60)\n",
      "Gathering information for tile T15RWN\n",
      "There are a total of 273 matching tiles for chip_045_124's geometry\n"
     ]
    },
    {
     "name": "stderr",
     "output_type": "stream",
     "text": [
      "100%|████████████████████████████████████████████████████████████████████████████████| 273/273 [00:04<00:00, 58.72it/s]\n"
     ]
    },
    {
     "name": "stdout",
     "output_type": "stream",
     "text": [
      "Information for tile T15RWN is collected, a total of 14 out of 273 tiles pass the filter (50/60)\n",
      "Gathering information for tile T15SXB\n",
      "There are a total of 69 matching tiles for chip_060_000's geometry\n"
     ]
    },
    {
     "name": "stderr",
     "output_type": "stream",
     "text": [
      "100%|██████████████████████████████████████████████████████████████████████████████████| 69/69 [00:02<00:00, 24.73it/s]\n"
     ]
    },
    {
     "name": "stdout",
     "output_type": "stream",
     "text": [
      "Information for tile T15SXB is collected, a total of 8 out of 69 tiles pass the filter (51/60)\n",
      "Gathering information for tile T15SXA\n",
      "There are a total of 137 matching tiles for chip_060_005's geometry\n"
     ]
    },
    {
     "name": "stderr",
     "output_type": "stream",
     "text": [
      "100%|████████████████████████████████████████████████████████████████████████████████| 137/137 [00:02<00:00, 50.77it/s]\n"
     ]
    },
    {
     "name": "stdout",
     "output_type": "stream",
     "text": [
      "Information for tile T15SXA is collected, a total of 10 out of 137 tiles pass the filter (52/60)\n",
      "Gathering information for tile T15SXV\n",
      "There are a total of 139 matching tiles for chip_060_020's geometry\n"
     ]
    },
    {
     "name": "stderr",
     "output_type": "stream",
     "text": [
      "100%|████████████████████████████████████████████████████████████████████████████████| 139/139 [00:03<00:00, 45.42it/s]\n"
     ]
    },
    {
     "name": "stdout",
     "output_type": "stream",
     "text": [
      "Information for tile T15SXV is collected, a total of 9 out of 139 tiles pass the filter (53/60)\n",
      "Gathering information for tile T15SXU\n",
      "There are a total of 144 matching tiles for chip_060_035's geometry\n"
     ]
    },
    {
     "name": "stderr",
     "output_type": "stream",
     "text": [
      "100%|████████████████████████████████████████████████████████████████████████████████| 144/144 [00:02<00:00, 52.76it/s]\n"
     ]
    },
    {
     "name": "stdout",
     "output_type": "stream",
     "text": [
      "Information for tile T15SXU is collected, a total of 9 out of 144 tiles pass the filter (54/60)\n",
      "Gathering information for tile T15SXT\n",
      "There are a total of 207 matching tiles for chip_060_050's geometry\n"
     ]
    },
    {
     "name": "stderr",
     "output_type": "stream",
     "text": [
      "100%|████████████████████████████████████████████████████████████████████████████████| 207/207 [00:05<00:00, 36.91it/s]\n"
     ]
    },
    {
     "name": "stdout",
     "output_type": "stream",
     "text": [
      "Information for tile T15SXT is collected, a total of 19 out of 207 tiles pass the filter (55/60)\n",
      "Gathering information for tile T15SXS\n",
      "There are a total of 292 matching tiles for chip_060_065's geometry\n"
     ]
    },
    {
     "name": "stderr",
     "output_type": "stream",
     "text": [
      "100%|████████████████████████████████████████████████████████████████████████████████| 292/292 [00:03<00:00, 93.09it/s]\n"
     ]
    },
    {
     "name": "stdout",
     "output_type": "stream",
     "text": [
      "Information for tile T15SXS is collected, a total of 17 out of 292 tiles pass the filter (56/60)\n",
      "Gathering information for tile T15SXR\n",
      "There are a total of 297 matching tiles for chip_060_079's geometry\n"
     ]
    },
    {
     "name": "stderr",
     "output_type": "stream",
     "text": [
      "100%|████████████████████████████████████████████████████████████████████████████████| 297/297 [00:03<00:00, 79.96it/s]\n"
     ]
    },
    {
     "name": "stdout",
     "output_type": "stream",
     "text": [
      "Information for tile T15SXR is collected, a total of 16 out of 297 tiles pass the filter (57/60)\n",
      "Gathering information for tile T15RXQ\n",
      "There are a total of 303 matching tiles for chip_060_094's geometry\n"
     ]
    },
    {
     "name": "stderr",
     "output_type": "stream",
     "text": [
      "100%|████████████████████████████████████████████████████████████████████████████████| 303/303 [00:05<00:00, 56.92it/s]\n"
     ]
    },
    {
     "name": "stdout",
     "output_type": "stream",
     "text": [
      "Information for tile T15RXQ is collected, a total of 17 out of 303 tiles pass the filter (58/60)\n",
      "Gathering information for tile T15RXP\n",
      "There are a total of 150 matching tiles for chip_060_109's geometry\n"
     ]
    },
    {
     "name": "stderr",
     "output_type": "stream",
     "text": [
      "100%|███████████████████████████████████████████████████████████████████████████████| 150/150 [00:00<00:00, 154.79it/s]\n"
     ]
    },
    {
     "name": "stdout",
     "output_type": "stream",
     "text": [
      "Information for tile T15RXP is collected, a total of 4 out of 150 tiles pass the filter (59/60)\n",
      "Gathering information for tile T15RXN\n",
      "There are a total of 155 matching tiles for chip_060_124's geometry\n"
     ]
    },
    {
     "name": "stderr",
     "output_type": "stream",
     "text": [
      "100%|███████████████████████████████████████████████████████████████████████████████| 155/155 [00:01<00:00, 148.38it/s]"
     ]
    },
    {
     "name": "stdout",
     "output_type": "stream",
     "text": [
      "Information for tile T15RXN is collected, a total of 3 out of 155 tiles pass the filter (60/60)\n"
     ]
    },
    {
     "name": "stderr",
     "output_type": "stream",
     "text": [
      "\n"
     ]
    }
   ],
   "source": [
    "tile_list = []\n",
    "print(f\"There are a total of {len(tiles)} tiles\")\n",
    "tile_iter = 0\n",
    "for current_tile in tiles:\n",
    "\n",
    "    chip_df_filt = chip_df.loc[chip_df.tile == current_tile]#.reset_index()\n",
    "    first_chip_id = chip_df_filt.chip_id.iloc[0]\n",
    "    first_chip_index_in_json = chip_ids.index(first_chip_id)\n",
    "    roi = chips['features'][first_chip_index_in_json]['geometry']\n",
    "\n",
    "    search = catalog.search(\n",
    "        collections = ['HLSS30.v2.0'],\n",
    "        intersects = roi,\n",
    "        datetime = '2022-03-01/2022-09-30',\n",
    "    ) \n",
    "    \n",
    "    num_results = search.matched()\n",
    "    item_collection = search.get_all_items()\n",
    "    \n",
    "    tile_name = \"T\" + current_tile\n",
    "    iter_items = 0\n",
    "    print(f\"Gathering information for tile {tile_name}\")\n",
    "    print(f\"There are a total of {num_results} matching tiles for chip_{first_chip_id}'s geometry\")\n",
    "    \n",
    "    for i in tqdm(item_collection):\n",
    "        if i.id.split('.')[2] == tile_name:\n",
    "            if i.properties['eo:cloud_cover'] <= cloud_thres:\n",
    "                response = requests.get(i.assets['metadata'].href)\n",
    "                if response.status_code == 200:\n",
    "                    temp_xml = response.text\n",
    "                    temp_xml = xmltodict.parse(temp_xml)\n",
    "                    # print(temp_xml['Granule']['AdditionalAttributes']['AdditionalAttribute'][3]['Values']['Value'])\n",
    "                    temp_dict = {\"tile_id\": tile_name, \"cloud_cover\": i.properties['eo:cloud_cover'],\n",
    "                                 \"date\": datetime.datetime.strptime(i.properties['datetime'].split('T')[0], \"%Y-%m-%d\"), \n",
    "                                 \"spatial_cover\": int(temp_xml['Granule']['AdditionalAttributes']['AdditionalAttribute'][3]['Values']['Value']),\n",
    "                                 \"links\": {\"B02\": i.assets['B02'].href.replace('https://data.lpdaac.earthdatacloud.nasa.gov/', 's3://'), \n",
    "                                           \"B03\": i.assets['B03'].href.replace('https://data.lpdaac.earthdatacloud.nasa.gov/', 's3://'), \n",
    "                                           \"B04\": i.assets['B04'].href.replace('https://data.lpdaac.earthdatacloud.nasa.gov/', 's3://'), \n",
    "                                           \"B8A\": i.assets['B8A'].href.replace('https://data.lpdaac.earthdatacloud.nasa.gov/', 's3://'),\n",
    "                                           \"B11\": i.assets['B11'].href.replace('https://data.lpdaac.earthdatacloud.nasa.gov/', 's3://'),\n",
    "                                           \"B12\": i.assets['B12'].href.replace('https://data.lpdaac.earthdatacloud.nasa.gov/', 's3://'),\n",
    "                                           \"Fmask\": i.assets['Fmask'].href.replace('https://data.lpdaac.earthdatacloud.nasa.gov/', 's3://')}}\n",
    "                    tile_list.append(temp_dict)\n",
    "                    iter_items += 1\n",
    "                else: \n",
    "                    assert False, f\"Failed to fetch XML from {i.assets['metadata'].href}. Error code: {response.status_code}\"\n",
    "\n",
    "    tile_iter += 1\n",
    "    print(f\"Information for tile {tile_name} is collected, a total of {iter_items} out of {num_results} tiles pass the filter ({tile_iter}/{len(tiles)})\")\n",
    "\n",
    "    \n",
    "tile_df = pd.DataFrame(tile_list)"
   ]
  },
  {
   "cell_type": "code",
   "execution_count": 12,
   "id": "54f75ff9-58ca-4573-8f0c-abc4343be986",
   "metadata": {},
   "outputs": [
    {
     "data": {
      "text/html": [
       "<div>\n",
       "<style scoped>\n",
       "    .dataframe tbody tr th:only-of-type {\n",
       "        vertical-align: middle;\n",
       "    }\n",
       "\n",
       "    .dataframe tbody tr th {\n",
       "        vertical-align: top;\n",
       "    }\n",
       "\n",
       "    .dataframe thead th {\n",
       "        text-align: right;\n",
       "    }\n",
       "</style>\n",
       "<table border=\"1\" class=\"dataframe\">\n",
       "  <thead>\n",
       "    <tr style=\"text-align: right;\">\n",
       "      <th></th>\n",
       "      <th>tile_id</th>\n",
       "      <th>cloud_cover</th>\n",
       "      <th>date</th>\n",
       "      <th>spatial_cover</th>\n",
       "      <th>links</th>\n",
       "    </tr>\n",
       "  </thead>\n",
       "  <tbody>\n",
       "    <tr>\n",
       "      <th>0</th>\n",
       "      <td>T14SQG</td>\n",
       "      <td>0</td>\n",
       "      <td>2022-03-15</td>\n",
       "      <td>99</td>\n",
       "      <td>{'B02': 's3://lp-prod-protected/HLSS30.020/HLS...</td>\n",
       "    </tr>\n",
       "    <tr>\n",
       "      <th>1</th>\n",
       "      <td>T14SQG</td>\n",
       "      <td>1</td>\n",
       "      <td>2022-04-09</td>\n",
       "      <td>100</td>\n",
       "      <td>{'B02': 's3://lp-prod-protected/HLSS30.020/HLS...</td>\n",
       "    </tr>\n",
       "    <tr>\n",
       "      <th>2</th>\n",
       "      <td>T14SQG</td>\n",
       "      <td>1</td>\n",
       "      <td>2022-04-14</td>\n",
       "      <td>100</td>\n",
       "      <td>{'B02': 's3://lp-prod-protected/HLSS30.020/HLS...</td>\n",
       "    </tr>\n",
       "    <tr>\n",
       "      <th>3</th>\n",
       "      <td>T14SQG</td>\n",
       "      <td>0</td>\n",
       "      <td>2022-06-13</td>\n",
       "      <td>99</td>\n",
       "      <td>{'B02': 's3://lp-prod-protected/HLSS30.020/HLS...</td>\n",
       "    </tr>\n",
       "    <tr>\n",
       "      <th>4</th>\n",
       "      <td>T14SQG</td>\n",
       "      <td>0</td>\n",
       "      <td>2022-06-28</td>\n",
       "      <td>99</td>\n",
       "      <td>{'B02': 's3://lp-prod-protected/HLSS30.020/HLS...</td>\n",
       "    </tr>\n",
       "  </tbody>\n",
       "</table>\n",
       "</div>"
      ],
      "text/plain": [
       "  tile_id  cloud_cover       date  spatial_cover  \\\n",
       "0  T14SQG            0 2022-03-15             99   \n",
       "1  T14SQG            1 2022-04-09            100   \n",
       "2  T14SQG            1 2022-04-14            100   \n",
       "3  T14SQG            0 2022-06-13             99   \n",
       "4  T14SQG            0 2022-06-28             99   \n",
       "\n",
       "                                               links  \n",
       "0  {'B02': 's3://lp-prod-protected/HLSS30.020/HLS...  \n",
       "1  {'B02': 's3://lp-prod-protected/HLSS30.020/HLS...  \n",
       "2  {'B02': 's3://lp-prod-protected/HLSS30.020/HLS...  \n",
       "3  {'B02': 's3://lp-prod-protected/HLSS30.020/HLS...  \n",
       "4  {'B02': 's3://lp-prod-protected/HLSS30.020/HLS...  "
      ]
     },
     "execution_count": 12,
     "metadata": {},
     "output_type": "execute_result"
    }
   ],
   "source": [
    "tile_df[0:5]"
   ]
  },
  {
   "cell_type": "code",
   "execution_count": 24,
   "id": "1016ee8a-47ec-4eff-9dd2-0e2af530aac1",
   "metadata": {},
   "outputs": [],
   "source": [
    "tile_df.to_csv(\"/home/gfm-gap-filling-td/t3_data/tile_df.csv\", index=False)"
   ]
  },
  {
   "cell_type": "code",
   "execution_count": 13,
   "id": "eb51b51e-0e36-45e1-a173-b524107631e4",
   "metadata": {},
   "outputs": [],
   "source": [
    "def spatial_filtering (dataframe):\n",
    "    \"\"\"\n",
    "        Using spatial coverage percentage to filter chips\n",
    "\n",
    "        Args:\n",
    "            dataframe: A pandas dataframe that generated previously\n",
    "    \"\"\"\n",
    "    cover_list = [100, 90, 80, 70, 60, 50]\n",
    "    tile_list_ft = []\n",
    "    tile_list = dataframe.tile_id.unique().tolist()\n",
    "    \n",
    "    for tile in tqdm(tile_list):\n",
    "        temp_df = dataframe[dataframe.tile_id == tile]\n",
    "        for cover_pct in cover_list:\n",
    "            \n",
    "            temp_df_filtered = temp_df[temp_df.spatial_cover >= cover_pct]\n",
    "            if len(temp_df_filtered) >= 3:\n",
    "                for i in range(len(temp_df_filtered)):\n",
    "                    tile_list_ft.append(temp_df_filtered.iloc[i])\n",
    "                break\n",
    "    \n",
    "    tile_df_filtered = pd.DataFrame(tile_list_ft)\n",
    "    return tile_df_filtered"
   ]
  },
  {
   "cell_type": "code",
   "execution_count": 14,
   "id": "a398d5fa-4a80-4bdb-a623-920879a06878",
   "metadata": {},
   "outputs": [
    {
     "name": "stderr",
     "output_type": "stream",
     "text": [
      "100%|█████████████████████████████████████████████████████████████████████████████████| 60/60 [00:00<00:00, 735.85it/s]\n"
     ]
    }
   ],
   "source": [
    "# check_spatial_cover(tile_df, 90)\n",
    "cover_df = spatial_filtering(tile_df)"
   ]
  },
  {
   "cell_type": "code",
   "execution_count": 15,
   "id": "532546b0-3e08-4013-96d7-f171a76de565",
   "metadata": {},
   "outputs": [],
   "source": [
    "def select_scenes(dataframe):\n",
    "    select_tiles = []\n",
    "    tile_list = dataframe.tile_id.unique().tolist()\n",
    "\n",
    "    for tile in tqdm(tile_list):\n",
    "        temp_df = dataframe[dataframe.tile_id == tile].sort_values('date').reset_index(drop=True)\n",
    "        select_tiles.extend([temp_df.iloc[0], temp_df.iloc[len(temp_df) // 2], temp_df.iloc[-1]])\n",
    "\n",
    "    return pd.DataFrame(select_tiles).reset_index(drop=True)"
   ]
  },
  {
   "cell_type": "code",
   "execution_count": 17,
   "id": "ebc1d6a5-2326-4ff3-9522-e4d03dd086b0",
   "metadata": {
    "scrolled": true
   },
   "outputs": [
    {
     "name": "stderr",
     "output_type": "stream",
     "text": [
      "100%|████████████████████████████████████████████████████████████████████████████████| 60/60 [00:00<00:00, 1267.79it/s]\n"
     ]
    },
    {
     "data": {
      "text/plain": [
       "{'B02': 's3://lp-prod-protected/HLSS30.020/HLS.S30.T14SQG.2022099T170849.v2.0/HLS.S30.T14SQG.2022099T170849.v2.0.B02.tif',\n",
       " 'B03': 's3://lp-prod-protected/HLSS30.020/HLS.S30.T14SQG.2022099T170849.v2.0/HLS.S30.T14SQG.2022099T170849.v2.0.B03.tif',\n",
       " 'B04': 's3://lp-prod-protected/HLSS30.020/HLS.S30.T14SQG.2022099T170849.v2.0/HLS.S30.T14SQG.2022099T170849.v2.0.B04.tif',\n",
       " 'B8A': 's3://lp-prod-protected/HLSS30.020/HLS.S30.T14SQG.2022099T170849.v2.0/HLS.S30.T14SQG.2022099T170849.v2.0.B8A.tif',\n",
       " 'B11': 's3://lp-prod-protected/HLSS30.020/HLS.S30.T14SQG.2022099T170849.v2.0/HLS.S30.T14SQG.2022099T170849.v2.0.B11.tif',\n",
       " 'B12': 's3://lp-prod-protected/HLSS30.020/HLS.S30.T14SQG.2022099T170849.v2.0/HLS.S30.T14SQG.2022099T170849.v2.0.B12.tif',\n",
       " 'Fmask': 's3://lp-prod-protected/HLSS30.020/HLS.S30.T14SQG.2022099T170849.v2.0/HLS.S30.T14SQG.2022099T170849.v2.0.Fmask.tif'}"
      ]
     },
     "execution_count": 17,
     "metadata": {},
     "output_type": "execute_result"
    }
   ],
   "source": [
    "selected_tiles = select_scenes(cover_df)"
   ]
  },
  {
   "cell_type": "code",
   "execution_count": 20,
   "id": "a7b8f7f3-48a6-4797-9bbd-6296692bd869",
   "metadata": {},
   "outputs": [
    {
     "data": {
      "text/html": [
       "<div>\n",
       "<style scoped>\n",
       "    .dataframe tbody tr th:only-of-type {\n",
       "        vertical-align: middle;\n",
       "    }\n",
       "\n",
       "    .dataframe tbody tr th {\n",
       "        vertical-align: top;\n",
       "    }\n",
       "\n",
       "    .dataframe thead th {\n",
       "        text-align: right;\n",
       "    }\n",
       "</style>\n",
       "<table border=\"1\" class=\"dataframe\">\n",
       "  <thead>\n",
       "    <tr style=\"text-align: right;\">\n",
       "      <th></th>\n",
       "      <th>tile_id</th>\n",
       "      <th>cloud_cover</th>\n",
       "      <th>date</th>\n",
       "      <th>spatial_cover</th>\n",
       "      <th>links</th>\n",
       "    </tr>\n",
       "  </thead>\n",
       "  <tbody>\n",
       "    <tr>\n",
       "      <th>0</th>\n",
       "      <td>T14SQG</td>\n",
       "      <td>1</td>\n",
       "      <td>2022-04-09</td>\n",
       "      <td>100</td>\n",
       "      <td>{'B02': 's3://lp-prod-protected/HLSS30.020/HLS...</td>\n",
       "    </tr>\n",
       "    <tr>\n",
       "      <th>1</th>\n",
       "      <td>T14SQG</td>\n",
       "      <td>0</td>\n",
       "      <td>2022-07-23</td>\n",
       "      <td>100</td>\n",
       "      <td>{'B02': 's3://lp-prod-protected/HLSS30.020/HLS...</td>\n",
       "    </tr>\n",
       "    <tr>\n",
       "      <th>2</th>\n",
       "      <td>T14SQG</td>\n",
       "      <td>0</td>\n",
       "      <td>2022-09-11</td>\n",
       "      <td>100</td>\n",
       "      <td>{'B02': 's3://lp-prod-protected/HLSS30.020/HLS...</td>\n",
       "    </tr>\n",
       "    <tr>\n",
       "      <th>3</th>\n",
       "      <td>T14SQF</td>\n",
       "      <td>1</td>\n",
       "      <td>2022-04-09</td>\n",
       "      <td>100</td>\n",
       "      <td>{'B02': 's3://lp-prod-protected/HLSS30.020/HLS...</td>\n",
       "    </tr>\n",
       "    <tr>\n",
       "      <th>4</th>\n",
       "      <td>T14SQF</td>\n",
       "      <td>0</td>\n",
       "      <td>2022-07-13</td>\n",
       "      <td>100</td>\n",
       "      <td>{'B02': 's3://lp-prod-protected/HLSS30.020/HLS...</td>\n",
       "    </tr>\n",
       "    <tr>\n",
       "      <th>5</th>\n",
       "      <td>T14SQF</td>\n",
       "      <td>1</td>\n",
       "      <td>2022-08-02</td>\n",
       "      <td>100</td>\n",
       "      <td>{'B02': 's3://lp-prod-protected/HLSS30.020/HLS...</td>\n",
       "    </tr>\n",
       "    <tr>\n",
       "      <th>6</th>\n",
       "      <td>T14SQE</td>\n",
       "      <td>0</td>\n",
       "      <td>2022-03-20</td>\n",
       "      <td>93</td>\n",
       "      <td>{'B02': 's3://lp-prod-protected/HLSS30.020/HLS...</td>\n",
       "    </tr>\n",
       "    <tr>\n",
       "      <th>7</th>\n",
       "      <td>T14SQE</td>\n",
       "      <td>1</td>\n",
       "      <td>2022-06-13</td>\n",
       "      <td>93</td>\n",
       "      <td>{'B02': 's3://lp-prod-protected/HLSS30.020/HLS...</td>\n",
       "    </tr>\n",
       "    <tr>\n",
       "      <th>8</th>\n",
       "      <td>T14SQE</td>\n",
       "      <td>0</td>\n",
       "      <td>2022-09-26</td>\n",
       "      <td>93</td>\n",
       "      <td>{'B02': 's3://lp-prod-protected/HLSS30.020/HLS...</td>\n",
       "    </tr>\n",
       "    <tr>\n",
       "      <th>9</th>\n",
       "      <td>T14SQD</td>\n",
       "      <td>0</td>\n",
       "      <td>2022-03-02</td>\n",
       "      <td>91</td>\n",
       "      <td>{'B02': 's3://lp-prod-protected/HLSS30.020/HLS...</td>\n",
       "    </tr>\n",
       "    <tr>\n",
       "      <th>10</th>\n",
       "      <td>T14SQD</td>\n",
       "      <td>0</td>\n",
       "      <td>2022-06-30</td>\n",
       "      <td>91</td>\n",
       "      <td>{'B02': 's3://lp-prod-protected/HLSS30.020/HLS...</td>\n",
       "    </tr>\n",
       "    <tr>\n",
       "      <th>11</th>\n",
       "      <td>T14SQD</td>\n",
       "      <td>1</td>\n",
       "      <td>2022-09-28</td>\n",
       "      <td>90</td>\n",
       "      <td>{'B02': 's3://lp-prod-protected/HLSS30.020/HLS...</td>\n",
       "    </tr>\n",
       "  </tbody>\n",
       "</table>\n",
       "</div>"
      ],
      "text/plain": [
       "   tile_id  cloud_cover       date  spatial_cover  \\\n",
       "0   T14SQG            1 2022-04-09            100   \n",
       "1   T14SQG            0 2022-07-23            100   \n",
       "2   T14SQG            0 2022-09-11            100   \n",
       "3   T14SQF            1 2022-04-09            100   \n",
       "4   T14SQF            0 2022-07-13            100   \n",
       "5   T14SQF            1 2022-08-02            100   \n",
       "6   T14SQE            0 2022-03-20             93   \n",
       "7   T14SQE            1 2022-06-13             93   \n",
       "8   T14SQE            0 2022-09-26             93   \n",
       "9   T14SQD            0 2022-03-02             91   \n",
       "10  T14SQD            0 2022-06-30             91   \n",
       "11  T14SQD            1 2022-09-28             90   \n",
       "\n",
       "                                                links  \n",
       "0   {'B02': 's3://lp-prod-protected/HLSS30.020/HLS...  \n",
       "1   {'B02': 's3://lp-prod-protected/HLSS30.020/HLS...  \n",
       "2   {'B02': 's3://lp-prod-protected/HLSS30.020/HLS...  \n",
       "3   {'B02': 's3://lp-prod-protected/HLSS30.020/HLS...  \n",
       "4   {'B02': 's3://lp-prod-protected/HLSS30.020/HLS...  \n",
       "5   {'B02': 's3://lp-prod-protected/HLSS30.020/HLS...  \n",
       "6   {'B02': 's3://lp-prod-protected/HLSS30.020/HLS...  \n",
       "7   {'B02': 's3://lp-prod-protected/HLSS30.020/HLS...  \n",
       "8   {'B02': 's3://lp-prod-protected/HLSS30.020/HLS...  \n",
       "9   {'B02': 's3://lp-prod-protected/HLSS30.020/HLS...  \n",
       "10  {'B02': 's3://lp-prod-protected/HLSS30.020/HLS...  \n",
       "11  {'B02': 's3://lp-prod-protected/HLSS30.020/HLS...  "
      ]
     },
     "execution_count": 20,
     "metadata": {},
     "output_type": "execute_result"
    }
   ],
   "source": [
    "selected_tiles.head(12)"
   ]
  },
  {
   "cell_type": "code",
   "execution_count": 23,
   "id": "d46da24b-51f9-4a75-a8fa-59c3cb5d4add",
   "metadata": {},
   "outputs": [],
   "source": [
    "selected_tiles.to_csv(\"/home/gfm-gap-filling-td/t3_data/selected_tiles.csv\", index=False)"
   ]
  },
  {
   "cell_type": "code",
   "execution_count": null,
   "id": "59f683f9-eccf-4b2b-836c-3f2031d76910",
   "metadata": {},
   "outputs": [],
   "source": []
  },
  {
   "cell_type": "code",
   "execution_count": null,
   "id": "195bc910-e842-44f8-8440-c3b358759cda",
   "metadata": {},
   "outputs": [],
   "source": []
  },
  {
   "cell_type": "code",
   "execution_count": null,
   "id": "a7dd0e9e-d58b-4dfc-b5cc-19071ffb65c3",
   "metadata": {},
   "outputs": [],
   "source": [
    "s3_cred_endpoint = 'https://data.lpdaac.earthdatacloud.nasa.gov/s3credentials'"
   ]
  },
  {
   "cell_type": "code",
   "execution_count": null,
   "id": "71b3c4f2-632f-43b6-8c02-906c62902c1a",
   "metadata": {},
   "outputs": [],
   "source": [
    "def get_temp_creds():\n",
    "    temp_creds_url = s3_cred_endpoint\n",
    "    return requests.get(temp_creds_url).json()"
   ]
  },
  {
   "cell_type": "code",
   "execution_count": null,
   "id": "8b6a9b0e-bb35-4c30-9ff6-295b2cb86421",
   "metadata": {},
   "outputs": [],
   "source": [
    "temp_creds_req = get_temp_creds()\n",
    "#temp_creds_req                      # !!! BEWARE, removing the # on this line will print your temporary S3 credentials."
   ]
  },
  {
   "cell_type": "code",
   "execution_count": null,
   "id": "8e0e9895-634a-4f82-ab7f-bc964457ddb8",
   "metadata": {},
   "outputs": [],
   "source": [
    "session = boto3.Session(aws_access_key_id=temp_creds_req['accessKeyId'], \n",
    "                        aws_secret_access_key=temp_creds_req['secretAccessKey'],\n",
    "                        aws_session_token=temp_creds_req['sessionToken'],\n",
    "                        region_name='us-west-2')"
   ]
  },
  {
   "cell_type": "code",
   "execution_count": null,
   "id": "98de6190-71da-4c0b-a572-813e96c5d785",
   "metadata": {},
   "outputs": [],
   "source": [
    "rio_env = rio.Env(AWSSession(session),\n",
    "                  GDAL_DISABLE_READDIR_ON_OPEN='EMPTY_DIR',\n",
    "                  GDAL_HTTP_COOKIEFILE=os.path.expanduser('~/cookies.txt'),\n",
    "                  GDAL_HTTP_COOKIEJAR=os.path.expanduser('~/cookies.txt'))\n",
    "rio_env.__enter__()"
   ]
  },
  {
   "cell_type": "code",
   "execution_count": null,
   "id": "19058bec-ff20-4289-a3f3-2f9f25994898",
   "metadata": {},
   "outputs": [],
   "source": []
  },
  {
   "cell_type": "code",
   "execution_count": null,
   "id": "f7277bda-b675-4bd3-8595-1e4aec642789",
   "metadata": {},
   "outputs": [],
   "source": []
  },
  {
   "cell_type": "code",
   "execution_count": null,
   "id": "276a78f5-cadd-4400-a677-149b10de8649",
   "metadata": {},
   "outputs": [],
   "source": []
  },
  {
   "cell_type": "code",
   "execution_count": null,
   "id": "79990622-a795-457f-9707-c620dbbec7c8",
   "metadata": {},
   "outputs": [],
   "source": []
  },
  {
   "cell_type": "code",
   "execution_count": null,
   "id": "b6c4431f-e749-4c7e-8491-9b4ace7ea105",
   "metadata": {},
   "outputs": [],
   "source": []
  }
 ],
 "metadata": {
  "kernelspec": {
   "display_name": "Python 3 (ipykernel)",
   "language": "python",
   "name": "python3"
  },
  "language_info": {
   "codemirror_mode": {
    "name": "ipython",
    "version": 3
   },
   "file_extension": ".py",
   "mimetype": "text/x-python",
   "name": "python",
   "nbconvert_exporter": "python",
   "pygments_lexer": "ipython3",
   "version": "3.8.10"
  }
 },
 "nbformat": 4,
 "nbformat_minor": 5
}
