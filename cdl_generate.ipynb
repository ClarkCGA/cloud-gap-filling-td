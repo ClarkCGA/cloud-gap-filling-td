{
 "cells": [
  {
   "cell_type": "markdown",
   "id": "a952a314-d83d-4a89-b3c0-bbf11771842c",
   "metadata": {},
   "source": [
    "Chipping the CDL layer based on a geojson of area of interest. Produce a new chipped CDL tif file to use for reprojecting HLS"
   ]
  },
  {
   "cell_type": "code",
   "execution_count": 5,
   "id": "76d8a0d1-f1c6-4d59-8efb-1d06daedbaa8",
   "metadata": {},
   "outputs": [],
   "source": [
    "# this cell is clipping CDL CONUS layer to a smaller area captured in `cdl_aoi.geojson`\n",
    "\n",
    "import fiona\n",
    "import rasterio\n",
    "import rasterio.mask\n",
    "\n",
    "with fiona.open(\"/data/requirements/cdl_raw/cdl_aoi.geojson\", \"r\") as shapefile:\n",
    "    shapes = [feature[\"geometry\"] for feature in shapefile]\n",
    "    \n",
    "with rasterio.open(\"/data/requirements/cdl_raw/2022_30m_cdls.tif\") as src:\n",
    "    out_image, out_transform = rasterio.mask.mask(src, shapes, crop=True)\n",
    "    out_meta = src.meta\n",
    "    colormap = src.colormap(1)\n",
    "    \n",
    "out_meta.update({\"driver\": \"GTiff\",\n",
    "                 \"height\": out_image.shape[1],\n",
    "                 \"width\": out_image.shape[2],\n",
    "                 \"transform\": out_transform})\n",
    "\n",
    "with rasterio.open(\"/data/requirements/2022_30m_cdls_clipped.tif\", \"w\", **out_meta) as dest:\n",
    "    dest.write(out_image)\n",
    "    dest.write_colormap(1, colormap)"
   ]
  },
  {
   "cell_type": "code",
   "execution_count": null,
   "id": "18483da6-2f01-47b1-a399-42b49b1adde9",
   "metadata": {},
   "outputs": [],
   "source": []
  }
 ],
 "metadata": {
  "kernelspec": {
   "display_name": "Python 3 (ipykernel)",
   "language": "python",
   "name": "python3"
  },
  "language_info": {
   "codemirror_mode": {
    "name": "ipython",
    "version": 3
   },
   "file_extension": ".py",
   "mimetype": "text/x-python",
   "name": "python",
   "nbconvert_exporter": "python",
   "pygments_lexer": "ipython3",
   "version": "3.10.6"
  }
 },
 "nbformat": 4,
 "nbformat_minor": 5
}
