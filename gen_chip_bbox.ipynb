{
 "cells": [
  {
   "cell_type": "code",
   "execution_count": 1,
   "id": "616a1bdf-809e-48df-a2a1-4f47020434c1",
   "metadata": {},
   "outputs": [],
   "source": [
    "import json\n",
    "from shapely.geometry import Polygon\n",
    "import numpy as np\n",
    "import pyproj"
   ]
  },
  {
   "cell_type": "code",
   "execution_count": 2,
   "id": "1e430c01-fdf6-430e-b0d7-eb744933d286",
   "metadata": {},
   "outputs": [],
   "source": [
    "with open(\"data/aoi.geojson\", \"r\") as fp:\n",
    "    aoi = json.load(fp)"
   ]
  },
  {
   "cell_type": "code",
   "execution_count": 3,
   "id": "5034ca6a-0359-439d-a2e7-d1e27b5af524",
   "metadata": {},
   "outputs": [],
   "source": [
    "x0 = aoi['features'][0]['geometry']['coordinates'][0][0][0][0]\n",
    "y0 = aoi['features'][0]['geometry']['coordinates'][0][0][0][1]\n",
    "aoi_width = aoi['features'][0]['geometry']['coordinates'][0][0][1][0] - aoi['features'][0]['geometry']['coordinates'][0][0][0][0]\n",
    "aoi_height = aoi['features'][0]['geometry']['coordinates'][0][0][0][1] - aoi['features'][0]['geometry']['coordinates'][0][0][2][1]"
   ]
  },
  {
   "cell_type": "code",
   "execution_count": 4,
   "id": "2db9a92a-59f3-4be6-b65c-647a8b9bf9e3",
   "metadata": {},
   "outputs": [],
   "source": [
    "chip_dim = 224 #pixels\n",
    "chip_resolution = 30 #meters\n",
    "chip_width = chip_dim * chip_resolution\n",
    "chip_height = chip_dim * chip_resolution"
   ]
  },
  {
   "cell_type": "code",
   "execution_count": 5,
   "id": "d2033ff4-dd87-4558-b733-a4d9e57ccb24",
   "metadata": {},
   "outputs": [],
   "source": [
    "features = []\n",
    "proj = pyproj.Transformer.from_crs(int(aoi['crs']['properties']['name'].split(\"::\")[-1]), 4326, always_xy=True)\n",
    "\n",
    "for i_x in range(0, int(np.floor(aoi_width/chip_width))):\n",
    "    for i_y in range(0, int(np.floor(aoi_height/chip_height))):\n",
    "        feature_template = [{'type': 'Feature',\n",
    "                    'properties': {'id': 0,\n",
    "                                  'center': [0, 0]},\n",
    "                    'geometry': {'type': 'MultiPolygon',\n",
    "                    'coordinates': [[[[-281415, 1533615],\n",
    "                                      [256185, 1533615],\n",
    "                                      [256185, 996015],\n",
    "                                      [-281415, 996015],\n",
    "                                      [-281415, 1533615]]]]\n",
    "                                }\n",
    "                   }]\n",
    "        chip_id = f\"{str(i_x).zfill(3)}_{str(i_y).zfill(3)}\"\n",
    "        chip_x0 = x0 + i_x * chip_width\n",
    "        chip_y0 = y0 - i_y * chip_height\n",
    "        coor = [[[[proj.transform(chip_x0, chip_y0)[0], proj.transform(chip_x0, chip_y0)[1]],\n",
    "                  [proj.transform(chip_x0, chip_y0 - chip_height)[0], proj.transform(chip_x0, chip_y0 - chip_height)[1]],\n",
    "                  [proj.transform(chip_x0 + chip_width, chip_y0 - chip_height)[0], proj.transform(chip_x0 + chip_width, chip_y0 - chip_height)[1]],\n",
    "                  [proj.transform(chip_x0 + chip_width, chip_y0)[0], proj.transform(chip_x0 + chip_width, chip_y0)[1]],\n",
    "                  [proj.transform(chip_x0, chip_y0)[0], proj.transform(chip_x0, chip_y0)[1]]\n",
    "            ]]]\n",
    "        chip_cen = [chip_x0 + chip_width / 2, chip_y0 - chip_height / 2]\n",
    "        chip_cen_lon, chip_cen_lat = proj.transform(chip_cen[0], chip_cen[1])\n",
    "        \n",
    "        feature_template[0]['geometry']['coordinates'] = coor\n",
    "        feature_template[0]['properties']['id'] = chip_id\n",
    "        feature_template[0]['properties']['center'] = [chip_cen_lon, chip_cen_lat] \n",
    "        features.extend(feature_template)\n",
    "\n",
    "feature_collection = {\n",
    "    'type': 'FeatureCollection',\n",
    "     'name': 'chips',\n",
    "     'crs': {'type': 'name', 'properties': {'name': 'urn:ogc:def:crs:EPSG::4326'}},\n",
    "     'features': features\n",
    "}"
   ]
  },
  {
   "cell_type": "code",
   "execution_count": 6,
   "id": "7c4f185f-36ce-4a78-af16-df483094cab6",
   "metadata": {},
   "outputs": [],
   "source": [
    "with open(\"data/chip_bbox.geojson\", 'w') as outfile:\n",
    "    json.dump(feature_collection, outfile)"
   ]
  }
 ],
 "metadata": {
  "kernelspec": {
   "display_name": "Python 3",
   "language": "python",
   "name": "python3"
  },
  "language_info": {
   "codemirror_mode": {
    "name": "ipython",
    "version": 3
   },
   "file_extension": ".py",
   "mimetype": "text/x-python",
   "name": "python",
   "nbconvert_exporter": "python",
   "pygments_lexer": "ipython3",
   "version": "3.6.9"
  }
 },
 "nbformat": 4,
 "nbformat_minor": 5
}
