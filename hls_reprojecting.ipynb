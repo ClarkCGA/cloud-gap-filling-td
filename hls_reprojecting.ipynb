{
 "cells": [
  {
   "cell_type": "markdown",
   "id": "d14646d2-2f89-40c2-b4bb-850e95eb8942",
   "metadata": {},
   "source": [
    "Using the CDL tif to reproject each HLS scene to CDL projection. Run cdl_generate.ipynb before doing this to get the cdl tif file"
   ]
  },
  {
   "cell_type": "code",
   "execution_count": 16,
   "id": "7351170e-79c3-4df3-a723-ed0a479df1c3",
   "metadata": {},
   "outputs": [],
   "source": [
    "import xarray\n",
    "import rioxarray\n",
    "import pandas as pd\n",
    "import numpy as np\n",
    "import pyproj\n",
    "import multiprocessing as mp\n",
    "from rasterio.enums import Resampling\n",
    "import json\n",
    "from pathlib import Path\n",
    "import os\n",
    "\n",
    "pd.set_option('display.max_columns', None)\n",
    "pd.set_option('display.max_rows', None)"
   ]
  },
  {
   "cell_type": "code",
   "execution_count": 2,
   "id": "4447d5b3-962e-4af1-afad-cb5a842d60a1",
   "metadata": {},
   "outputs": [],
   "source": [
    "cdl_file = \"/data/requirements/cdl_raw/2022_30m_cdls.tif\""
   ]
  },
  {
   "cell_type": "code",
   "execution_count": 3,
   "id": "1b72c33f-2ef3-4b32-9b99-a7368a550675",
   "metadata": {},
   "outputs": [],
   "source": [
    "track_df = pd.read_csv(\"/home/data/track_df.csv\")"
   ]
  },
  {
   "cell_type": "code",
   "execution_count": 4,
   "id": "b5ec8954-6e0c-4ec8-bdd7-baef404a595d",
   "metadata": {},
   "outputs": [],
   "source": [
    "def point_transform(coor, src_crs, target_crs=5070):\n",
    "    proj = pyproj.Transformer.from_crs(src_crs, target_crs, always_xy=True)\n",
    "    projected_coor = proj.transform(coor[0], coor[1])\n",
    "    return [projected_coor[0], projected_coor[1]]\n",
    "\n",
    "def find_nearest(array, value):\n",
    "    idx = (np.abs(array - value)).argmin()\n",
    "    return array[idx]"
   ]
  },
  {
   "cell_type": "code",
   "execution_count": 11,
   "id": "aa552f97-90ab-4151-af70-1dce0754b100",
   "metadata": {},
   "outputs": [],
   "source": [
    "def reproject_hls(tile_path,\n",
    "                  cdl_ds,\n",
    "                  target_crs =\"EPSG:5070\", \n",
    "                  remove_original = True, \n",
    "                  resampling_method = Resampling.bilinear):\n",
    "    \n",
    "    \"\"\"\n",
    "    This function receives the path to a specific HLS tile and reproject it to the targeting crs_ds.\n",
    "    The option of removing the raw HLS tile is provided\n",
    "    \n",
    "    Assumptions:\n",
    "    - tile_path is a full path that end with .tif\n",
    "    - cdl_ds is a rioxarray dataset that is opened with `cache=False` setting.\n",
    "    \n",
    "    \n",
    "    Inputs:\n",
    "    - tile_path: The full path to a specific HLS tile\n",
    "    - target_crs: The crs that you wish to reproject the tile to, default is EPSG 4326\n",
    "    - remove_original: The option to remove raw HLS tile after reprojecting, default is True\n",
    "    - resampling_method: The method that rioxarray use to reproject, default is bilinear\n",
    "    \"\"\"\n",
    "\n",
    "    xds = rioxarray.open_rasterio(tile_path)\n",
    "    coor_min = point_transform([xds.x.min().data, xds.y.min().data], xds.rio.crs)\n",
    "    coor_max = point_transform([xds.x.max().data, xds.y.max().data], xds.rio.crs)\n",
    "    \n",
    "    x0 = find_nearest(cdl_ds.x.data, coor_min[0])\n",
    "    y0 = find_nearest(cdl_ds.y.data, coor_min[1])\n",
    "    x1 = find_nearest(cdl_ds.x.data, coor_max[0])\n",
    "    y1 = find_nearest(cdl_ds.y.data, coor_max[1])\n",
    "    \n",
    "    cdl_for_reprojection = cdl_ds.rio.slice_xy(x0, y0, x1, y1)\n",
    "    \n",
    "    xds_new = xds.rio.reproject_match(cdl_for_reprojection, resampling = resampling_method)\n",
    "\n",
    "    if remove_original:\n",
    "        if Path(tile_path).is_file():\n",
    "            os.remove(tile_path)\n",
    "        xds_new.rio.to_raster(raster_path = tile_path.replace(\".tif\", \".reproject.tif\"))\n",
    "    else:\n",
    "        xds_new.rio.to_raster(raster_path = tile_path.replace(\".tif\", \".reproject.tif\"))"
   ]
  },
  {
   "cell_type": "code",
   "execution_count": 34,
   "id": "34c09ef9-1875-4c63-8d93-d25e7f11c2c1",
   "metadata": {},
   "outputs": [
    {
     "name": "stdout",
     "output_type": "stream",
     "text": [
      "All tiles passed the quality test!\n"
     ]
    }
   ],
   "source": [
    "# Add a quality control to ensure there are three scenes for each tile.\n",
    "failed_tiles = []\n",
    "for tile in list(track_df.tile.unique()):\n",
    "    if len(track_df[track_df.tile == tile]) != 3:\n",
    "        failed_tiles.append(tile)\n",
    "if len(failed_tiles) == 0:\n",
    "    print(\"All tiles passed the quality test!\")\n",
    "else:\n",
    "    print(f\"Tile {failed_tiles} does not pass the quality test.\")\n",
    "    "
   ]
  },
  {
   "cell_type": "code",
   "execution_count": 7,
   "id": "40faf06e-56dd-4dc6-af1f-652a71b63dd7",
   "metadata": {},
   "outputs": [],
   "source": [
    "track_df[\"cdl_file\"] = cdl_file\n",
    "track_df.loc[:, \"bands\"] = '[\"B02\",\"B03\",\"B04\",\"B8A\",\"B11\",\"B12\",\"Fmask\"]'"
   ]
  },
  {
   "cell_type": "code",
   "execution_count": 8,
   "id": "99eaa67f-1530-4239-9b76-2898824b1c9b",
   "metadata": {},
   "outputs": [
    {
     "data": {
      "text/html": [
       "<div>\n",
       "<style scoped>\n",
       "    .dataframe tbody tr th:only-of-type {\n",
       "        vertical-align: middle;\n",
       "    }\n",
       "\n",
       "    .dataframe tbody tr th {\n",
       "        vertical-align: top;\n",
       "    }\n",
       "\n",
       "    .dataframe thead th {\n",
       "        text-align: right;\n",
       "    }\n",
       "</style>\n",
       "<table border=\"1\" class=\"dataframe\">\n",
       "  <thead>\n",
       "    <tr style=\"text-align: right;\">\n",
       "      <th></th>\n",
       "      <th>tile</th>\n",
       "      <th>timestep</th>\n",
       "      <th>date</th>\n",
       "      <th>save_path</th>\n",
       "      <th>filename</th>\n",
       "      <th>cdl_file</th>\n",
       "      <th>bands</th>\n",
       "    </tr>\n",
       "  </thead>\n",
       "  <tbody>\n",
       "    <tr>\n",
       "      <th>0</th>\n",
       "      <td>T10SDJ</td>\n",
       "      <td>0</td>\n",
       "      <td>2022-03-08</td>\n",
       "      <td>/data/tiles/HLS.S30.T10SDJ.2022067T190231.v2.0/</td>\n",
       "      <td>HLS.S30.T10SDJ.2022067T190231.v2.0</td>\n",
       "      <td>/data/requirements/cdl_raw/2022_30m_cdls.tif</td>\n",
       "      <td>[\"B02\",\"B03\",\"B04\",\"B8A\",\"B11\",\"B12\",\"Fmask\"]</td>\n",
       "    </tr>\n",
       "    <tr>\n",
       "      <th>1</th>\n",
       "      <td>T10SDJ</td>\n",
       "      <td>1</td>\n",
       "      <td>2022-07-16</td>\n",
       "      <td>/data/tiles/HLS.S30.T10SDJ.2022197T185931.v2.0/</td>\n",
       "      <td>HLS.S30.T10SDJ.2022197T185931.v2.0</td>\n",
       "      <td>/data/requirements/cdl_raw/2022_30m_cdls.tif</td>\n",
       "      <td>[\"B02\",\"B03\",\"B04\",\"B8A\",\"B11\",\"B12\",\"Fmask\"]</td>\n",
       "    </tr>\n",
       "    <tr>\n",
       "      <th>2</th>\n",
       "      <td>T10SDJ</td>\n",
       "      <td>2</td>\n",
       "      <td>2022-09-29</td>\n",
       "      <td>/data/tiles/HLS.S30.T10SDJ.2022272T190159.v2.0/</td>\n",
       "      <td>HLS.S30.T10SDJ.2022272T190159.v2.0</td>\n",
       "      <td>/data/requirements/cdl_raw/2022_30m_cdls.tif</td>\n",
       "      <td>[\"B02\",\"B03\",\"B04\",\"B8A\",\"B11\",\"B12\",\"Fmask\"]</td>\n",
       "    </tr>\n",
       "    <tr>\n",
       "      <th>3</th>\n",
       "      <td>T10SEH</td>\n",
       "      <td>0</td>\n",
       "      <td>2022-03-10</td>\n",
       "      <td>/data/tiles/HLS.S30.T10SEH.2022069T185109.v2.0/</td>\n",
       "      <td>HLS.S30.T10SEH.2022069T185109.v2.0</td>\n",
       "      <td>/data/requirements/cdl_raw/2022_30m_cdls.tif</td>\n",
       "      <td>[\"B02\",\"B03\",\"B04\",\"B8A\",\"B11\",\"B12\",\"Fmask\"]</td>\n",
       "    </tr>\n",
       "    <tr>\n",
       "      <th>4</th>\n",
       "      <td>T10SEH</td>\n",
       "      <td>1</td>\n",
       "      <td>2022-06-23</td>\n",
       "      <td>/data/tiles/HLS.S30.T10SEH.2022174T184931.v2.0/</td>\n",
       "      <td>HLS.S30.T10SEH.2022174T184931.v2.0</td>\n",
       "      <td>/data/requirements/cdl_raw/2022_30m_cdls.tif</td>\n",
       "      <td>[\"B02\",\"B03\",\"B04\",\"B8A\",\"B11\",\"B12\",\"Fmask\"]</td>\n",
       "    </tr>\n",
       "  </tbody>\n",
       "</table>\n",
       "</div>"
      ],
      "text/plain": [
       "     tile  timestep        date  \\\n",
       "0  T10SDJ         0  2022-03-08   \n",
       "1  T10SDJ         1  2022-07-16   \n",
       "2  T10SDJ         2  2022-09-29   \n",
       "3  T10SEH         0  2022-03-10   \n",
       "4  T10SEH         1  2022-06-23   \n",
       "\n",
       "                                         save_path  \\\n",
       "0  /data/tiles/HLS.S30.T10SDJ.2022067T190231.v2.0/   \n",
       "1  /data/tiles/HLS.S30.T10SDJ.2022197T185931.v2.0/   \n",
       "2  /data/tiles/HLS.S30.T10SDJ.2022272T190159.v2.0/   \n",
       "3  /data/tiles/HLS.S30.T10SEH.2022069T185109.v2.0/   \n",
       "4  /data/tiles/HLS.S30.T10SEH.2022174T184931.v2.0/   \n",
       "\n",
       "                             filename  \\\n",
       "0  HLS.S30.T10SDJ.2022067T190231.v2.0   \n",
       "1  HLS.S30.T10SDJ.2022197T185931.v2.0   \n",
       "2  HLS.S30.T10SDJ.2022272T190159.v2.0   \n",
       "3  HLS.S30.T10SEH.2022069T185109.v2.0   \n",
       "4  HLS.S30.T10SEH.2022174T184931.v2.0   \n",
       "\n",
       "                                       cdl_file  \\\n",
       "0  /data/requirements/cdl_raw/2022_30m_cdls.tif   \n",
       "1  /data/requirements/cdl_raw/2022_30m_cdls.tif   \n",
       "2  /data/requirements/cdl_raw/2022_30m_cdls.tif   \n",
       "3  /data/requirements/cdl_raw/2022_30m_cdls.tif   \n",
       "4  /data/requirements/cdl_raw/2022_30m_cdls.tif   \n",
       "\n",
       "                                           bands  \n",
       "0  [\"B02\",\"B03\",\"B04\",\"B8A\",\"B11\",\"B12\",\"Fmask\"]  \n",
       "1  [\"B02\",\"B03\",\"B04\",\"B8A\",\"B11\",\"B12\",\"Fmask\"]  \n",
       "2  [\"B02\",\"B03\",\"B04\",\"B8A\",\"B11\",\"B12\",\"Fmask\"]  \n",
       "3  [\"B02\",\"B03\",\"B04\",\"B8A\",\"B11\",\"B12\",\"Fmask\"]  \n",
       "4  [\"B02\",\"B03\",\"B04\",\"B8A\",\"B11\",\"B12\",\"Fmask\"]  "
      ]
     },
     "execution_count": 8,
     "metadata": {},
     "output_type": "execute_result"
    }
   ],
   "source": [
    "track_df.head()"
   ]
  },
  {
   "cell_type": "code",
   "execution_count": 12,
   "id": "ab138a96-9d1c-4497-9c25-969a04b562af",
   "metadata": {},
   "outputs": [],
   "source": [
    "def hls_process(kwargs):\n",
    "\n",
    "    remove_original = True\n",
    "    \n",
    "    save_path = kwargs[\"save_path\"]\n",
    "    filename= kwargs[\"filename\"]\n",
    "    bands = json.loads(kwargs[\"bands\"])    \n",
    "    cdl_file = kwargs[\"cdl_file\"]\n",
    "    \n",
    "    cdl_ds = rioxarray.open_rasterio(cdl_file, cache=False)\n",
    "\n",
    "    for band in bands:\n",
    "        tile_path = f\"{save_path}{filename}.{band}.tif\"\n",
    "        if band == \"Fmask\":\n",
    "            reproject_hls(tile_path, cdl_ds, remove_original, resampling_method = Resampling.nearest)\n",
    "        else :\n",
    "            reproject_hls(tile_path, cdl_ds, remove_original)                    "
   ]
  },
  {
   "cell_type": "code",
   "execution_count": 17,
   "id": "582eaef4-626f-41ac-8911-91dd4b6ee666",
   "metadata": {},
   "outputs": [],
   "source": [
    "with mp.Pool(processes=mp.cpu_count()) as pool:\n",
    "    pool.map(hls_process, track_df.to_dict('records'))"
   ]
  },
  {
   "cell_type": "code",
   "execution_count": null,
   "id": "f86378b9-6bc3-45a1-9724-4869f715ef2b",
   "metadata": {},
   "outputs": [],
   "source": []
  }
 ],
 "metadata": {
  "kernelspec": {
   "display_name": "Python 3 (ipykernel)",
   "language": "python",
   "name": "python3"
  },
  "language_info": {
   "codemirror_mode": {
    "name": "ipython",
    "version": 3
   },
   "file_extension": ".py",
   "mimetype": "text/x-python",
   "name": "python",
   "nbconvert_exporter": "python",
   "pygments_lexer": "ipython3",
   "version": "3.10.6"
  }
 },
 "nbformat": 4,
 "nbformat_minor": 5
}
