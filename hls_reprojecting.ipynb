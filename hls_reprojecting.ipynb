{
 "cells": [
  {
   "cell_type": "markdown",
   "id": "d14646d2-2f89-40c2-b4bb-850e95eb8942",
   "metadata": {},
   "source": [
    "Using the CDL tif to reproject each HLS scene to CDL projection."
   ]
  },
  {
   "cell_type": "code",
   "execution_count": null,
   "id": "7351170e-79c3-4df3-a723-ed0a479df1c3",
   "metadata": {},
   "outputs": [],
   "source": [
    "# Importing libraries\n",
    "import xarray\n",
    "import rioxarray\n",
    "import pandas as pd\n",
    "import numpy as np\n",
    "import pyproj\n",
    "import multiprocessing as mp\n",
    "from rasterio.enums import Resampling\n",
    "import json\n",
    "from pathlib import Path\n",
    "import os\n",
    "\n",
    "pd.set_option('display.max_columns', None)\n",
    "pd.set_option('display.max_rows', None)"
   ]
  },
  {
   "cell_type": "code",
   "execution_count": null,
   "id": "4447d5b3-962e-4af1-afad-cb5a842d60a1",
   "metadata": {},
   "outputs": [],
   "source": [
    "# Path to the cropped cdl tif from cdl_generate.ipynb\n",
    "cdl_file = \"/data/requirements/cdl_raw/2022_30m_cdls.tif\""
   ]
  },
  {
   "cell_type": "code",
   "execution_count": null,
   "id": "1b72c33f-2ef3-4b32-9b99-a7368a550675",
   "metadata": {},
   "outputs": [],
   "source": [
    "# Read in the tracking dataframe reating from the hls_v2_pipeline\n",
    "track_df = pd.read_csv(\"/home/data/fmask/track_df.csv\")"
   ]
  },
  {
   "cell_type": "code",
   "execution_count": null,
   "id": "b5ec8954-6e0c-4ec8-bdd7-baef404a595d",
   "metadata": {},
   "outputs": [],
   "source": [
    "# Necessary functions to match each shape from the aoi to the cdl tif\n",
    "def point_transform(coor, src_crs, target_crs=5070):\n",
    "    proj = pyproj.Transformer.from_crs(src_crs, target_crs, always_xy=True)\n",
    "    projected_coor = proj.transform(coor[0], coor[1])\n",
    "    return [projected_coor[0], projected_coor[1]]\n",
    "\n",
    "def find_nearest(array, value):\n",
    "    idx = (np.abs(array - value)).argmin()\n",
    "    return array[idx]"
   ]
  },
  {
   "cell_type": "code",
   "execution_count": null,
   "id": "aa552f97-90ab-4151-af70-1dce0754b100",
   "metadata": {},
   "outputs": [],
   "source": [
    "def reproject_hls(tile_path,\n",
    "                  cdl_ds,\n",
    "                  target_crs =\"EPSG:5070\", \n",
    "                  remove_original = True, \n",
    "                  resampling_method = Resampling.bilinear):\n",
    "    \n",
    "    \"\"\"\n",
    "    This function receives the path to a specific HLS tile and reproject it to the targeting crs_ds.\n",
    "    The option of removing the raw HLS tile is provided\n",
    "    \n",
    "    Assumptions:\n",
    "    - tile_path is a full path that end with .tif\n",
    "    - cdl_ds is a rioxarray dataset that is opened with `cache=False` setting.\n",
    "    \n",
    "    \n",
    "    Inputs:\n",
    "    - tile_path: The full path to a specific HLS tile\n",
    "    - target_crs: The crs that you wish to reproject the tile to, default is EPSG 4326\n",
    "    - remove_original: The option to remove raw HLS tile after reprojecting, default is True\n",
    "    - resampling_method: The method that rioxarray use to reproject, default is bilinear\n",
    "    \"\"\"\n",
    "    \n",
    "    xds = rioxarray.open_rasterio(tile_path)\n",
    "    half_scene_len = np.abs(np.round((xds.x.max().data - xds.x.min().data) / 2))\n",
    "    coor_min = point_transform([xds.x.min().data - half_scene_len, xds.y.min().data - half_scene_len], xds.rio.crs)\n",
    "    coor_max = point_transform([xds.x.max().data + half_scene_len, xds.y.max().data + half_scene_len], xds.rio.crs)\n",
    "    \n",
    "    x0 = find_nearest(cdl_ds.x.data, coor_min[0])\n",
    "    y0 = find_nearest(cdl_ds.y.data, coor_min[1])\n",
    "    x1 = find_nearest(cdl_ds.x.data, coor_max[0])\n",
    "    y1 = find_nearest(cdl_ds.y.data, coor_max[1])\n",
    "    \n",
    "    cdl_for_reprojection = cdl_ds.rio.slice_xy(x0, y0, x1, y1)\n",
    "    \n",
    "    xds_new = xds.rio.reproject_match(cdl_for_reprojection, resampling = resampling_method)\n",
    "\n",
    "    if remove_original:\n",
    "        if Path(tile_path).is_file():\n",
    "            os.remove(tile_path)\n",
    "        xds_new.rio.to_raster(raster_path = tile_path.replace(\".tif\", \".reproject.tif\"))\n",
    "    else:\n",
    "        xds_new.rio.to_raster(raster_path = tile_path.replace(\".tif\", \".reproject.tif\"))\n",
    "    # cdl_for_reprojection.rio.to_raster(raster_path = f\"/{tile_path.split('/')[1]}/{tile_path.split('/')[2]}/{tile_path.split('/')[3]}/{tile_path.split('/')[3]}_cdl.tif\")"
   ]
  },
  {
   "cell_type": "code",
   "execution_count": null,
   "id": "34c09ef9-1875-4c63-8d93-d25e7f11c2c1",
   "metadata": {},
   "outputs": [],
   "source": [
    "# Quality control to ensure there are three scenes for each tile.\n",
    "\n",
    "# The number of tiles is to check if each tile name contains certain number of tiles. \n",
    "# This should either match the timestep or the number of could masks you want for each tile\n",
    "num_tiles = 3\n",
    "\n",
    "failed_tiles = []\n",
    "for tile in list(track_df.tile.unique()):\n",
    "    if len(track_df[track_df.tile == tile]) != num_tiles:\n",
    "        failed_tiles.append(tile)\n",
    "if len(failed_tiles) == 0:\n",
    "    print(\"All tiles passed the quality test!\")\n",
    "else:\n",
    "    print(f\"Tile {failed_tiles} does not pass the quality test.\")    "
   ]
  },
  {
   "cell_type": "code",
   "execution_count": null,
   "id": "40faf06e-56dd-4dc6-af1f-652a71b63dd7",
   "metadata": {},
   "outputs": [],
   "source": [
    "# For the raw image\n",
    "track_df[\"cdl_file\"] = cdl_file\n",
    "track_df.loc[:, \"bands\"] = '[\"B02\",\"B03\",\"B04\",\"B8A\",\"B11\",\"B12\",\"Fmask\"]'"
   ]
  },
  {
   "cell_type": "code",
   "execution_count": null,
   "id": "e46558b6-57c9-4a95-a3b2-b8e4a648e052",
   "metadata": {},
   "outputs": [],
   "source": [
    "# For the cloud masks\n",
    "track_df[\"cdl_file\"] = cdl_file\n",
    "track_df.loc[:, \"bands\"] = '[\"Fmask\"]'"
   ]
  },
  {
   "cell_type": "code",
   "execution_count": null,
   "id": "99eaa67f-1530-4239-9b76-2898824b1c9b",
   "metadata": {},
   "outputs": [],
   "source": [
    "track_df.head()"
   ]
  },
  {
   "cell_type": "code",
   "execution_count": null,
   "id": "ab138a96-9d1c-4497-9c25-969a04b562af",
   "metadata": {},
   "outputs": [],
   "source": [
    "# Function that passed to multi-process the projecting task\n",
    "def hls_process(kwargs):\n",
    "\n",
    "    remove_original = True\n",
    "    \n",
    "    save_path = kwargs[\"save_path\"]\n",
    "    filename= kwargs[\"filename\"]\n",
    "    bands = json.loads(kwargs[\"bands\"])\n",
    "    cdl_file = kwargs[\"cdl_file\"]\n",
    "    \n",
    "    cdl_ds = rioxarray.open_rasterio(cdl_file, cache=False)\n",
    "\n",
    "    for band in bands:\n",
    "        tile_path = f\"{save_path}{filename}.{band}.tif\"\n",
    "        if Path(tile_path).is_file():\n",
    "            if band == \"Fmask\":\n",
    "                reproject_hls(tile_path, cdl_ds, remove_original, resampling_method = Resampling.nearest)\n",
    "            else :\n",
    "                reproject_hls(tile_path, cdl_ds, remove_original)"
   ]
  },
  {
   "cell_type": "code",
   "execution_count": null,
   "id": "582eaef4-626f-41ac-8911-91dd4b6ee666",
   "metadata": {},
   "outputs": [],
   "source": [
    "# Set the cpu_count to whatever you wish. Leave 4 cores to idel is recommended since it takes lots of memory. \n",
    "with mp.Pool(processes=mp.cpu_count() - 4) as pool:\n",
    "    pool.map(hls_process, track_df.to_dict('records'))"
   ]
  }
 ],
 "metadata": {
  "kernelspec": {
   "display_name": "Python 3 (ipykernel)",
   "language": "python",
   "name": "python3"
  },
  "language_info": {
   "codemirror_mode": {
    "name": "ipython",
    "version": 3
   },
   "file_extension": ".py",
   "mimetype": "text/x-python",
   "name": "python",
   "nbconvert_exporter": "python",
   "pygments_lexer": "ipython3",
   "version": "3.8.10"
  }
 },
 "nbformat": 4,
 "nbformat_minor": 5
}
